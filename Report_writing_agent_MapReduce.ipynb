{
  "cells": [
    {
      "cell_type": "markdown",
      "metadata": {
        "id": "view-in-github",
        "colab_type": "text"
      },
      "source": [
        "<a href=\"https://colab.research.google.com/github/timothyow/Agents/blob/main/Report_writing_agent_MapReduce.ipynb\" target=\"_parent\"><img src=\"https://colab.research.google.com/assets/colab-badge.svg\" alt=\"Open In Colab\"/></a>"
      ]
    },
    {
      "cell_type": "markdown",
      "id": "f4169bfb-769a-4db3-833e-c827f19024b2",
      "metadata": {
        "id": "f4169bfb-769a-4db3-833e-c827f19024b2"
      },
      "source": [
        "Map-reduce operations are used for task decomposition and parallel processing.\n",
        "\n",
        "It has two components:\n",
        "\n",
        "1. Map - Break a task into sub-tasks and process each sub-task in parallel.\n",
        "\n",
        "2. Reduce - Aggregate the results of all completed, parallelized sub-tasks.\n",
        "\n",
        "\n",
        "LangGraph has a Send function to enable this Map Reduce operation.\n",
        "\n",
        "- Task Decomposition: Breaks down a complex task into smaller, manageable sub-tasks (planning or complex question decomposition)\n",
        "- Parallel Processing: Executes sub-tasks in parallel, reducing overall processing time.\n",
        "- Result Aggregation: Combines results of all sub-tasks to form a comprehensive response.\n",
        "\n",
        "\n",
        "\n"
      ]
    },
    {
      "cell_type": "markdown",
      "source": [
        "## Install OpenAI, LangGraph and LangChain dependencies"
      ],
      "metadata": {
        "id": "9hEI3WL328vZ"
      },
      "id": "9hEI3WL328vZ"
    },
    {
      "cell_type": "code",
      "execution_count": 1,
      "id": "618eab5c-4ef7-4273-8e0b-a9c847897ed7",
      "metadata": {
        "id": "618eab5c-4ef7-4273-8e0b-a9c847897ed7",
        "colab": {
          "base_uri": "https://localhost:8080/"
        },
        "outputId": "ce7e11f6-27cf-468a-a197-ac9d7d0e567e"
      },
      "outputs": [
        {
          "output_type": "stream",
          "name": "stdout",
          "text": [
            "Collecting langchain==0.3.14\n",
            "  Downloading langchain-0.3.14-py3-none-any.whl.metadata (7.1 kB)\n",
            "Requirement already satisfied: PyYAML>=5.3 in /usr/local/lib/python3.11/dist-packages (from langchain==0.3.14) (6.0.2)\n",
            "Requirement already satisfied: SQLAlchemy<3,>=1.4 in /usr/local/lib/python3.11/dist-packages (from langchain==0.3.14) (2.0.40)\n",
            "Requirement already satisfied: aiohttp<4.0.0,>=3.8.3 in /usr/local/lib/python3.11/dist-packages (from langchain==0.3.14) (3.11.15)\n",
            "Requirement already satisfied: langchain-core<0.4.0,>=0.3.29 in /usr/local/lib/python3.11/dist-packages (from langchain==0.3.14) (0.3.59)\n",
            "Requirement already satisfied: langchain-text-splitters<0.4.0,>=0.3.3 in /usr/local/lib/python3.11/dist-packages (from langchain==0.3.14) (0.3.8)\n",
            "Collecting langsmith<0.3,>=0.1.17 (from langchain==0.3.14)\n",
            "  Downloading langsmith-0.2.11-py3-none-any.whl.metadata (14 kB)\n",
            "Collecting numpy<2,>=1.22.4 (from langchain==0.3.14)\n",
            "  Downloading numpy-1.26.4-cp311-cp311-manylinux_2_17_x86_64.manylinux2014_x86_64.whl.metadata (61 kB)\n",
            "\u001b[2K     \u001b[90m━━━━━━━━━━━━━━━━━━━━━━━━━━━━━━━━━━━━━━━\u001b[0m \u001b[32m61.0/61.0 kB\u001b[0m \u001b[31m628.0 kB/s\u001b[0m eta \u001b[36m0:00:00\u001b[0m\n",
            "\u001b[?25hRequirement already satisfied: pydantic<3.0.0,>=2.7.4 in /usr/local/lib/python3.11/dist-packages (from langchain==0.3.14) (2.11.4)\n",
            "Requirement already satisfied: requests<3,>=2 in /usr/local/lib/python3.11/dist-packages (from langchain==0.3.14) (2.32.3)\n",
            "Requirement already satisfied: tenacity!=8.4.0,<10,>=8.1.0 in /usr/local/lib/python3.11/dist-packages (from langchain==0.3.14) (9.1.2)\n",
            "Requirement already satisfied: aiohappyeyeballs>=2.3.0 in /usr/local/lib/python3.11/dist-packages (from aiohttp<4.0.0,>=3.8.3->langchain==0.3.14) (2.6.1)\n",
            "Requirement already satisfied: aiosignal>=1.1.2 in /usr/local/lib/python3.11/dist-packages (from aiohttp<4.0.0,>=3.8.3->langchain==0.3.14) (1.3.2)\n",
            "Requirement already satisfied: attrs>=17.3.0 in /usr/local/lib/python3.11/dist-packages (from aiohttp<4.0.0,>=3.8.3->langchain==0.3.14) (25.3.0)\n",
            "Requirement already satisfied: frozenlist>=1.1.1 in /usr/local/lib/python3.11/dist-packages (from aiohttp<4.0.0,>=3.8.3->langchain==0.3.14) (1.6.0)\n",
            "Requirement already satisfied: multidict<7.0,>=4.5 in /usr/local/lib/python3.11/dist-packages (from aiohttp<4.0.0,>=3.8.3->langchain==0.3.14) (6.4.3)\n",
            "Requirement already satisfied: propcache>=0.2.0 in /usr/local/lib/python3.11/dist-packages (from aiohttp<4.0.0,>=3.8.3->langchain==0.3.14) (0.3.1)\n",
            "Requirement already satisfied: yarl<2.0,>=1.17.0 in /usr/local/lib/python3.11/dist-packages (from aiohttp<4.0.0,>=3.8.3->langchain==0.3.14) (1.20.0)\n",
            "Requirement already satisfied: jsonpatch<2.0,>=1.33 in /usr/local/lib/python3.11/dist-packages (from langchain-core<0.4.0,>=0.3.29->langchain==0.3.14) (1.33)\n",
            "Requirement already satisfied: packaging<25,>=23.2 in /usr/local/lib/python3.11/dist-packages (from langchain-core<0.4.0,>=0.3.29->langchain==0.3.14) (24.2)\n",
            "Requirement already satisfied: typing-extensions>=4.7 in /usr/local/lib/python3.11/dist-packages (from langchain-core<0.4.0,>=0.3.29->langchain==0.3.14) (4.13.2)\n",
            "Requirement already satisfied: httpx<1,>=0.23.0 in /usr/local/lib/python3.11/dist-packages (from langsmith<0.3,>=0.1.17->langchain==0.3.14) (0.28.1)\n",
            "Requirement already satisfied: orjson<4.0.0,>=3.9.14 in /usr/local/lib/python3.11/dist-packages (from langsmith<0.3,>=0.1.17->langchain==0.3.14) (3.10.18)\n",
            "Requirement already satisfied: requests-toolbelt<2.0.0,>=1.0.0 in /usr/local/lib/python3.11/dist-packages (from langsmith<0.3,>=0.1.17->langchain==0.3.14) (1.0.0)\n",
            "Requirement already satisfied: annotated-types>=0.6.0 in /usr/local/lib/python3.11/dist-packages (from pydantic<3.0.0,>=2.7.4->langchain==0.3.14) (0.7.0)\n",
            "Requirement already satisfied: pydantic-core==2.33.2 in /usr/local/lib/python3.11/dist-packages (from pydantic<3.0.0,>=2.7.4->langchain==0.3.14) (2.33.2)\n",
            "Requirement already satisfied: typing-inspection>=0.4.0 in /usr/local/lib/python3.11/dist-packages (from pydantic<3.0.0,>=2.7.4->langchain==0.3.14) (0.4.0)\n",
            "Requirement already satisfied: charset-normalizer<4,>=2 in /usr/local/lib/python3.11/dist-packages (from requests<3,>=2->langchain==0.3.14) (3.4.2)\n",
            "Requirement already satisfied: idna<4,>=2.5 in /usr/local/lib/python3.11/dist-packages (from requests<3,>=2->langchain==0.3.14) (3.10)\n",
            "Requirement already satisfied: urllib3<3,>=1.21.1 in /usr/local/lib/python3.11/dist-packages (from requests<3,>=2->langchain==0.3.14) (2.4.0)\n",
            "Requirement already satisfied: certifi>=2017.4.17 in /usr/local/lib/python3.11/dist-packages (from requests<3,>=2->langchain==0.3.14) (2025.4.26)\n",
            "Requirement already satisfied: greenlet>=1 in /usr/local/lib/python3.11/dist-packages (from SQLAlchemy<3,>=1.4->langchain==0.3.14) (3.2.2)\n",
            "Requirement already satisfied: anyio in /usr/local/lib/python3.11/dist-packages (from httpx<1,>=0.23.0->langsmith<0.3,>=0.1.17->langchain==0.3.14) (4.9.0)\n",
            "Requirement already satisfied: httpcore==1.* in /usr/local/lib/python3.11/dist-packages (from httpx<1,>=0.23.0->langsmith<0.3,>=0.1.17->langchain==0.3.14) (1.0.9)\n",
            "Requirement already satisfied: h11>=0.16 in /usr/local/lib/python3.11/dist-packages (from httpcore==1.*->httpx<1,>=0.23.0->langsmith<0.3,>=0.1.17->langchain==0.3.14) (0.16.0)\n",
            "Requirement already satisfied: jsonpointer>=1.9 in /usr/local/lib/python3.11/dist-packages (from jsonpatch<2.0,>=1.33->langchain-core<0.4.0,>=0.3.29->langchain==0.3.14) (3.0.0)\n",
            "Requirement already satisfied: sniffio>=1.1 in /usr/local/lib/python3.11/dist-packages (from anyio->httpx<1,>=0.23.0->langsmith<0.3,>=0.1.17->langchain==0.3.14) (1.3.1)\n",
            "Downloading langchain-0.3.14-py3-none-any.whl (1.0 MB)\n",
            "\u001b[2K   \u001b[90m━━━━━━━━━━━━━━━━━━━━━━━━━━━━━━━━━━━━━━━━\u001b[0m \u001b[32m1.0/1.0 MB\u001b[0m \u001b[31m7.5 MB/s\u001b[0m eta \u001b[36m0:00:00\u001b[0m\n",
            "\u001b[?25hDownloading langsmith-0.2.11-py3-none-any.whl (326 kB)\n",
            "\u001b[2K   \u001b[90m━━━━━━━━━━━━━━━━━━━━━━━━━━━━━━━━━━━━━━━━\u001b[0m \u001b[32m326.9/326.9 kB\u001b[0m \u001b[31m9.9 MB/s\u001b[0m eta \u001b[36m0:00:00\u001b[0m\n",
            "\u001b[?25hDownloading numpy-1.26.4-cp311-cp311-manylinux_2_17_x86_64.manylinux2014_x86_64.whl (18.3 MB)\n",
            "\u001b[2K   \u001b[90m━━━━━━━━━━━━━━━━━━━━━━━━━━━━━━━━━━━━━━━━\u001b[0m \u001b[32m18.3/18.3 MB\u001b[0m \u001b[31m17.5 MB/s\u001b[0m eta \u001b[36m0:00:00\u001b[0m\n",
            "\u001b[?25hInstalling collected packages: numpy, langsmith, langchain\n",
            "  Attempting uninstall: numpy\n",
            "    Found existing installation: numpy 2.0.2\n",
            "    Uninstalling numpy-2.0.2:\n",
            "      Successfully uninstalled numpy-2.0.2\n",
            "  Attempting uninstall: langsmith\n",
            "    Found existing installation: langsmith 0.3.42\n",
            "    Uninstalling langsmith-0.3.42:\n",
            "      Successfully uninstalled langsmith-0.3.42\n",
            "  Attempting uninstall: langchain\n",
            "    Found existing installation: langchain 0.3.25\n",
            "    Uninstalling langchain-0.3.25:\n",
            "      Successfully uninstalled langchain-0.3.25\n",
            "\u001b[31mERROR: pip's dependency resolver does not currently take into account all the packages that are installed. This behaviour is the source of the following dependency conflicts.\n",
            "thinc 8.3.6 requires numpy<3.0.0,>=2.0.0, but you have numpy 1.26.4 which is incompatible.\u001b[0m\u001b[31m\n",
            "\u001b[0mSuccessfully installed langchain-0.3.14 langsmith-0.2.11 numpy-1.26.4\n",
            "Collecting langchain-openai==0.3.0\n",
            "  Downloading langchain_openai-0.3.0-py3-none-any.whl.metadata (2.7 kB)\n",
            "Requirement already satisfied: langchain-core<0.4.0,>=0.3.29 in /usr/local/lib/python3.11/dist-packages (from langchain-openai==0.3.0) (0.3.59)\n",
            "Requirement already satisfied: openai<2.0.0,>=1.58.1 in /usr/local/lib/python3.11/dist-packages (from langchain-openai==0.3.0) (1.78.1)\n",
            "Requirement already satisfied: tiktoken<1,>=0.7 in /usr/local/lib/python3.11/dist-packages (from langchain-openai==0.3.0) (0.9.0)\n",
            "Requirement already satisfied: langsmith<0.4,>=0.1.125 in /usr/local/lib/python3.11/dist-packages (from langchain-core<0.4.0,>=0.3.29->langchain-openai==0.3.0) (0.2.11)\n",
            "Requirement already satisfied: tenacity!=8.4.0,<10.0.0,>=8.1.0 in /usr/local/lib/python3.11/dist-packages (from langchain-core<0.4.0,>=0.3.29->langchain-openai==0.3.0) (9.1.2)\n",
            "Requirement already satisfied: jsonpatch<2.0,>=1.33 in /usr/local/lib/python3.11/dist-packages (from langchain-core<0.4.0,>=0.3.29->langchain-openai==0.3.0) (1.33)\n",
            "Requirement already satisfied: PyYAML>=5.3 in /usr/local/lib/python3.11/dist-packages (from langchain-core<0.4.0,>=0.3.29->langchain-openai==0.3.0) (6.0.2)\n",
            "Requirement already satisfied: packaging<25,>=23.2 in /usr/local/lib/python3.11/dist-packages (from langchain-core<0.4.0,>=0.3.29->langchain-openai==0.3.0) (24.2)\n",
            "Requirement already satisfied: typing-extensions>=4.7 in /usr/local/lib/python3.11/dist-packages (from langchain-core<0.4.0,>=0.3.29->langchain-openai==0.3.0) (4.13.2)\n",
            "Requirement already satisfied: pydantic<3.0.0,>=2.5.2 in /usr/local/lib/python3.11/dist-packages (from langchain-core<0.4.0,>=0.3.29->langchain-openai==0.3.0) (2.11.4)\n",
            "Requirement already satisfied: anyio<5,>=3.5.0 in /usr/local/lib/python3.11/dist-packages (from openai<2.0.0,>=1.58.1->langchain-openai==0.3.0) (4.9.0)\n",
            "Requirement already satisfied: distro<2,>=1.7.0 in /usr/local/lib/python3.11/dist-packages (from openai<2.0.0,>=1.58.1->langchain-openai==0.3.0) (1.9.0)\n",
            "Requirement already satisfied: httpx<1,>=0.23.0 in /usr/local/lib/python3.11/dist-packages (from openai<2.0.0,>=1.58.1->langchain-openai==0.3.0) (0.28.1)\n",
            "Requirement already satisfied: jiter<1,>=0.4.0 in /usr/local/lib/python3.11/dist-packages (from openai<2.0.0,>=1.58.1->langchain-openai==0.3.0) (0.9.0)\n",
            "Requirement already satisfied: sniffio in /usr/local/lib/python3.11/dist-packages (from openai<2.0.0,>=1.58.1->langchain-openai==0.3.0) (1.3.1)\n",
            "Requirement already satisfied: tqdm>4 in /usr/local/lib/python3.11/dist-packages (from openai<2.0.0,>=1.58.1->langchain-openai==0.3.0) (4.67.1)\n",
            "Requirement already satisfied: regex>=2022.1.18 in /usr/local/lib/python3.11/dist-packages (from tiktoken<1,>=0.7->langchain-openai==0.3.0) (2024.11.6)\n",
            "Requirement already satisfied: requests>=2.26.0 in /usr/local/lib/python3.11/dist-packages (from tiktoken<1,>=0.7->langchain-openai==0.3.0) (2.32.3)\n",
            "Requirement already satisfied: idna>=2.8 in /usr/local/lib/python3.11/dist-packages (from anyio<5,>=3.5.0->openai<2.0.0,>=1.58.1->langchain-openai==0.3.0) (3.10)\n",
            "Requirement already satisfied: certifi in /usr/local/lib/python3.11/dist-packages (from httpx<1,>=0.23.0->openai<2.0.0,>=1.58.1->langchain-openai==0.3.0) (2025.4.26)\n",
            "Requirement already satisfied: httpcore==1.* in /usr/local/lib/python3.11/dist-packages (from httpx<1,>=0.23.0->openai<2.0.0,>=1.58.1->langchain-openai==0.3.0) (1.0.9)\n",
            "Requirement already satisfied: h11>=0.16 in /usr/local/lib/python3.11/dist-packages (from httpcore==1.*->httpx<1,>=0.23.0->openai<2.0.0,>=1.58.1->langchain-openai==0.3.0) (0.16.0)\n",
            "Requirement already satisfied: jsonpointer>=1.9 in /usr/local/lib/python3.11/dist-packages (from jsonpatch<2.0,>=1.33->langchain-core<0.4.0,>=0.3.29->langchain-openai==0.3.0) (3.0.0)\n",
            "Requirement already satisfied: orjson<4.0.0,>=3.9.14 in /usr/local/lib/python3.11/dist-packages (from langsmith<0.4,>=0.1.125->langchain-core<0.4.0,>=0.3.29->langchain-openai==0.3.0) (3.10.18)\n",
            "Requirement already satisfied: requests-toolbelt<2.0.0,>=1.0.0 in /usr/local/lib/python3.11/dist-packages (from langsmith<0.4,>=0.1.125->langchain-core<0.4.0,>=0.3.29->langchain-openai==0.3.0) (1.0.0)\n",
            "Requirement already satisfied: annotated-types>=0.6.0 in /usr/local/lib/python3.11/dist-packages (from pydantic<3.0.0,>=2.5.2->langchain-core<0.4.0,>=0.3.29->langchain-openai==0.3.0) (0.7.0)\n",
            "Requirement already satisfied: pydantic-core==2.33.2 in /usr/local/lib/python3.11/dist-packages (from pydantic<3.0.0,>=2.5.2->langchain-core<0.4.0,>=0.3.29->langchain-openai==0.3.0) (2.33.2)\n",
            "Requirement already satisfied: typing-inspection>=0.4.0 in /usr/local/lib/python3.11/dist-packages (from pydantic<3.0.0,>=2.5.2->langchain-core<0.4.0,>=0.3.29->langchain-openai==0.3.0) (0.4.0)\n",
            "Requirement already satisfied: charset-normalizer<4,>=2 in /usr/local/lib/python3.11/dist-packages (from requests>=2.26.0->tiktoken<1,>=0.7->langchain-openai==0.3.0) (3.4.2)\n",
            "Requirement already satisfied: urllib3<3,>=1.21.1 in /usr/local/lib/python3.11/dist-packages (from requests>=2.26.0->tiktoken<1,>=0.7->langchain-openai==0.3.0) (2.4.0)\n",
            "Downloading langchain_openai-0.3.0-py3-none-any.whl (54 kB)\n",
            "\u001b[2K   \u001b[90m━━━━━━━━━━━━━━━━━━━━━━━━━━━━━━━━━━━━━━━━\u001b[0m \u001b[32m54.2/54.2 kB\u001b[0m \u001b[31m4.7 MB/s\u001b[0m eta \u001b[36m0:00:00\u001b[0m\n",
            "\u001b[?25hInstalling collected packages: langchain-openai\n",
            "Successfully installed langchain-openai-0.3.0\n",
            "Collecting langchain-community==0.3.14\n",
            "  Downloading langchain_community-0.3.14-py3-none-any.whl.metadata (2.9 kB)\n",
            "Requirement already satisfied: PyYAML>=5.3 in /usr/local/lib/python3.11/dist-packages (from langchain-community==0.3.14) (6.0.2)\n",
            "Requirement already satisfied: SQLAlchemy<3,>=1.4 in /usr/local/lib/python3.11/dist-packages (from langchain-community==0.3.14) (2.0.40)\n",
            "Requirement already satisfied: aiohttp<4.0.0,>=3.8.3 in /usr/local/lib/python3.11/dist-packages (from langchain-community==0.3.14) (3.11.15)\n",
            "Collecting dataclasses-json<0.7,>=0.5.7 (from langchain-community==0.3.14)\n",
            "  Downloading dataclasses_json-0.6.7-py3-none-any.whl.metadata (25 kB)\n",
            "Collecting httpx-sse<0.5.0,>=0.4.0 (from langchain-community==0.3.14)\n",
            "  Downloading httpx_sse-0.4.0-py3-none-any.whl.metadata (9.0 kB)\n",
            "Requirement already satisfied: langchain<0.4.0,>=0.3.14 in /usr/local/lib/python3.11/dist-packages (from langchain-community==0.3.14) (0.3.14)\n",
            "Requirement already satisfied: langchain-core<0.4.0,>=0.3.29 in /usr/local/lib/python3.11/dist-packages (from langchain-community==0.3.14) (0.3.59)\n",
            "Requirement already satisfied: langsmith<0.3,>=0.1.125 in /usr/local/lib/python3.11/dist-packages (from langchain-community==0.3.14) (0.2.11)\n",
            "Requirement already satisfied: numpy<2,>=1.22.4 in /usr/local/lib/python3.11/dist-packages (from langchain-community==0.3.14) (1.26.4)\n",
            "Collecting pydantic-settings<3.0.0,>=2.4.0 (from langchain-community==0.3.14)\n",
            "  Downloading pydantic_settings-2.9.1-py3-none-any.whl.metadata (3.8 kB)\n",
            "Requirement already satisfied: requests<3,>=2 in /usr/local/lib/python3.11/dist-packages (from langchain-community==0.3.14) (2.32.3)\n",
            "Requirement already satisfied: tenacity!=8.4.0,<10,>=8.1.0 in /usr/local/lib/python3.11/dist-packages (from langchain-community==0.3.14) (9.1.2)\n",
            "Requirement already satisfied: aiohappyeyeballs>=2.3.0 in /usr/local/lib/python3.11/dist-packages (from aiohttp<4.0.0,>=3.8.3->langchain-community==0.3.14) (2.6.1)\n",
            "Requirement already satisfied: aiosignal>=1.1.2 in /usr/local/lib/python3.11/dist-packages (from aiohttp<4.0.0,>=3.8.3->langchain-community==0.3.14) (1.3.2)\n",
            "Requirement already satisfied: attrs>=17.3.0 in /usr/local/lib/python3.11/dist-packages (from aiohttp<4.0.0,>=3.8.3->langchain-community==0.3.14) (25.3.0)\n",
            "Requirement already satisfied: frozenlist>=1.1.1 in /usr/local/lib/python3.11/dist-packages (from aiohttp<4.0.0,>=3.8.3->langchain-community==0.3.14) (1.6.0)\n",
            "Requirement already satisfied: multidict<7.0,>=4.5 in /usr/local/lib/python3.11/dist-packages (from aiohttp<4.0.0,>=3.8.3->langchain-community==0.3.14) (6.4.3)\n",
            "Requirement already satisfied: propcache>=0.2.0 in /usr/local/lib/python3.11/dist-packages (from aiohttp<4.0.0,>=3.8.3->langchain-community==0.3.14) (0.3.1)\n",
            "Requirement already satisfied: yarl<2.0,>=1.17.0 in /usr/local/lib/python3.11/dist-packages (from aiohttp<4.0.0,>=3.8.3->langchain-community==0.3.14) (1.20.0)\n",
            "Collecting marshmallow<4.0.0,>=3.18.0 (from dataclasses-json<0.7,>=0.5.7->langchain-community==0.3.14)\n",
            "  Downloading marshmallow-3.26.1-py3-none-any.whl.metadata (7.3 kB)\n",
            "Collecting typing-inspect<1,>=0.4.0 (from dataclasses-json<0.7,>=0.5.7->langchain-community==0.3.14)\n",
            "  Downloading typing_inspect-0.9.0-py3-none-any.whl.metadata (1.5 kB)\n",
            "Requirement already satisfied: langchain-text-splitters<0.4.0,>=0.3.3 in /usr/local/lib/python3.11/dist-packages (from langchain<0.4.0,>=0.3.14->langchain-community==0.3.14) (0.3.8)\n",
            "Requirement already satisfied: pydantic<3.0.0,>=2.7.4 in /usr/local/lib/python3.11/dist-packages (from langchain<0.4.0,>=0.3.14->langchain-community==0.3.14) (2.11.4)\n",
            "Requirement already satisfied: jsonpatch<2.0,>=1.33 in /usr/local/lib/python3.11/dist-packages (from langchain-core<0.4.0,>=0.3.29->langchain-community==0.3.14) (1.33)\n",
            "Requirement already satisfied: packaging<25,>=23.2 in /usr/local/lib/python3.11/dist-packages (from langchain-core<0.4.0,>=0.3.29->langchain-community==0.3.14) (24.2)\n",
            "Requirement already satisfied: typing-extensions>=4.7 in /usr/local/lib/python3.11/dist-packages (from langchain-core<0.4.0,>=0.3.29->langchain-community==0.3.14) (4.13.2)\n",
            "Requirement already satisfied: httpx<1,>=0.23.0 in /usr/local/lib/python3.11/dist-packages (from langsmith<0.3,>=0.1.125->langchain-community==0.3.14) (0.28.1)\n",
            "Requirement already satisfied: orjson<4.0.0,>=3.9.14 in /usr/local/lib/python3.11/dist-packages (from langsmith<0.3,>=0.1.125->langchain-community==0.3.14) (3.10.18)\n",
            "Requirement already satisfied: requests-toolbelt<2.0.0,>=1.0.0 in /usr/local/lib/python3.11/dist-packages (from langsmith<0.3,>=0.1.125->langchain-community==0.3.14) (1.0.0)\n",
            "Collecting python-dotenv>=0.21.0 (from pydantic-settings<3.0.0,>=2.4.0->langchain-community==0.3.14)\n",
            "  Downloading python_dotenv-1.1.0-py3-none-any.whl.metadata (24 kB)\n",
            "Requirement already satisfied: typing-inspection>=0.4.0 in /usr/local/lib/python3.11/dist-packages (from pydantic-settings<3.0.0,>=2.4.0->langchain-community==0.3.14) (0.4.0)\n",
            "Requirement already satisfied: charset-normalizer<4,>=2 in /usr/local/lib/python3.11/dist-packages (from requests<3,>=2->langchain-community==0.3.14) (3.4.2)\n",
            "Requirement already satisfied: idna<4,>=2.5 in /usr/local/lib/python3.11/dist-packages (from requests<3,>=2->langchain-community==0.3.14) (3.10)\n",
            "Requirement already satisfied: urllib3<3,>=1.21.1 in /usr/local/lib/python3.11/dist-packages (from requests<3,>=2->langchain-community==0.3.14) (2.4.0)\n",
            "Requirement already satisfied: certifi>=2017.4.17 in /usr/local/lib/python3.11/dist-packages (from requests<3,>=2->langchain-community==0.3.14) (2025.4.26)\n",
            "Requirement already satisfied: greenlet>=1 in /usr/local/lib/python3.11/dist-packages (from SQLAlchemy<3,>=1.4->langchain-community==0.3.14) (3.2.2)\n",
            "Requirement already satisfied: anyio in /usr/local/lib/python3.11/dist-packages (from httpx<1,>=0.23.0->langsmith<0.3,>=0.1.125->langchain-community==0.3.14) (4.9.0)\n",
            "Requirement already satisfied: httpcore==1.* in /usr/local/lib/python3.11/dist-packages (from httpx<1,>=0.23.0->langsmith<0.3,>=0.1.125->langchain-community==0.3.14) (1.0.9)\n",
            "Requirement already satisfied: h11>=0.16 in /usr/local/lib/python3.11/dist-packages (from httpcore==1.*->httpx<1,>=0.23.0->langsmith<0.3,>=0.1.125->langchain-community==0.3.14) (0.16.0)\n",
            "Requirement already satisfied: jsonpointer>=1.9 in /usr/local/lib/python3.11/dist-packages (from jsonpatch<2.0,>=1.33->langchain-core<0.4.0,>=0.3.29->langchain-community==0.3.14) (3.0.0)\n",
            "Requirement already satisfied: annotated-types>=0.6.0 in /usr/local/lib/python3.11/dist-packages (from pydantic<3.0.0,>=2.7.4->langchain<0.4.0,>=0.3.14->langchain-community==0.3.14) (0.7.0)\n",
            "Requirement already satisfied: pydantic-core==2.33.2 in /usr/local/lib/python3.11/dist-packages (from pydantic<3.0.0,>=2.7.4->langchain<0.4.0,>=0.3.14->langchain-community==0.3.14) (2.33.2)\n",
            "Collecting mypy-extensions>=0.3.0 (from typing-inspect<1,>=0.4.0->dataclasses-json<0.7,>=0.5.7->langchain-community==0.3.14)\n",
            "  Downloading mypy_extensions-1.1.0-py3-none-any.whl.metadata (1.1 kB)\n",
            "Requirement already satisfied: sniffio>=1.1 in /usr/local/lib/python3.11/dist-packages (from anyio->httpx<1,>=0.23.0->langsmith<0.3,>=0.1.125->langchain-community==0.3.14) (1.3.1)\n",
            "Downloading langchain_community-0.3.14-py3-none-any.whl (2.5 MB)\n",
            "\u001b[2K   \u001b[90m━━━━━━━━━━━━━━━━━━━━━━━━━━━━━━━━━━━━━━━━\u001b[0m \u001b[32m2.5/2.5 MB\u001b[0m \u001b[31m58.5 MB/s\u001b[0m eta \u001b[36m0:00:00\u001b[0m\n",
            "\u001b[?25hDownloading dataclasses_json-0.6.7-py3-none-any.whl (28 kB)\n",
            "Downloading httpx_sse-0.4.0-py3-none-any.whl (7.8 kB)\n",
            "Downloading pydantic_settings-2.9.1-py3-none-any.whl (44 kB)\n",
            "\u001b[2K   \u001b[90m━━━━━━━━━━━━━━━━━━━━━━━━━━━━━━━━━━━━━━━━\u001b[0m \u001b[32m44.4/44.4 kB\u001b[0m \u001b[31m3.2 MB/s\u001b[0m eta \u001b[36m0:00:00\u001b[0m\n",
            "\u001b[?25hDownloading marshmallow-3.26.1-py3-none-any.whl (50 kB)\n",
            "\u001b[2K   \u001b[90m━━━━━━━━━━━━━━━━━━━━━━━━━━━━━━━━━━━━━━━━\u001b[0m \u001b[32m50.9/50.9 kB\u001b[0m \u001b[31m3.8 MB/s\u001b[0m eta \u001b[36m0:00:00\u001b[0m\n",
            "\u001b[?25hDownloading python_dotenv-1.1.0-py3-none-any.whl (20 kB)\n",
            "Downloading typing_inspect-0.9.0-py3-none-any.whl (8.8 kB)\n",
            "Downloading mypy_extensions-1.1.0-py3-none-any.whl (5.0 kB)\n",
            "Installing collected packages: python-dotenv, mypy-extensions, marshmallow, httpx-sse, typing-inspect, pydantic-settings, dataclasses-json, langchain-community\n",
            "Successfully installed dataclasses-json-0.6.7 httpx-sse-0.4.0 langchain-community-0.3.14 marshmallow-3.26.1 mypy-extensions-1.1.0 pydantic-settings-2.9.1 python-dotenv-1.1.0 typing-inspect-0.9.0\n",
            "Collecting langgraph==0.2.64\n",
            "  Downloading langgraph-0.2.64-py3-none-any.whl.metadata (16 kB)\n",
            "Requirement already satisfied: langchain-core!=0.3.0,!=0.3.1,!=0.3.10,!=0.3.11,!=0.3.12,!=0.3.13,!=0.3.14,!=0.3.15,!=0.3.16,!=0.3.17,!=0.3.18,!=0.3.19,!=0.3.2,!=0.3.20,!=0.3.21,!=0.3.22,!=0.3.3,!=0.3.4,!=0.3.5,!=0.3.6,!=0.3.7,!=0.3.8,!=0.3.9,<0.4.0,>=0.2.43 in /usr/local/lib/python3.11/dist-packages (from langgraph==0.2.64) (0.3.59)\n",
            "Collecting langgraph-checkpoint<3.0.0,>=2.0.10 (from langgraph==0.2.64)\n",
            "  Downloading langgraph_checkpoint-2.0.26-py3-none-any.whl.metadata (4.6 kB)\n",
            "Collecting langgraph-sdk<0.2.0,>=0.1.42 (from langgraph==0.2.64)\n",
            "  Downloading langgraph_sdk-0.1.70-py3-none-any.whl.metadata (1.5 kB)\n",
            "Requirement already satisfied: langsmith<0.4,>=0.1.125 in /usr/local/lib/python3.11/dist-packages (from langchain-core!=0.3.0,!=0.3.1,!=0.3.10,!=0.3.11,!=0.3.12,!=0.3.13,!=0.3.14,!=0.3.15,!=0.3.16,!=0.3.17,!=0.3.18,!=0.3.19,!=0.3.2,!=0.3.20,!=0.3.21,!=0.3.22,!=0.3.3,!=0.3.4,!=0.3.5,!=0.3.6,!=0.3.7,!=0.3.8,!=0.3.9,<0.4.0,>=0.2.43->langgraph==0.2.64) (0.2.11)\n",
            "Requirement already satisfied: tenacity!=8.4.0,<10.0.0,>=8.1.0 in /usr/local/lib/python3.11/dist-packages (from langchain-core!=0.3.0,!=0.3.1,!=0.3.10,!=0.3.11,!=0.3.12,!=0.3.13,!=0.3.14,!=0.3.15,!=0.3.16,!=0.3.17,!=0.3.18,!=0.3.19,!=0.3.2,!=0.3.20,!=0.3.21,!=0.3.22,!=0.3.3,!=0.3.4,!=0.3.5,!=0.3.6,!=0.3.7,!=0.3.8,!=0.3.9,<0.4.0,>=0.2.43->langgraph==0.2.64) (9.1.2)\n",
            "Requirement already satisfied: jsonpatch<2.0,>=1.33 in /usr/local/lib/python3.11/dist-packages (from langchain-core!=0.3.0,!=0.3.1,!=0.3.10,!=0.3.11,!=0.3.12,!=0.3.13,!=0.3.14,!=0.3.15,!=0.3.16,!=0.3.17,!=0.3.18,!=0.3.19,!=0.3.2,!=0.3.20,!=0.3.21,!=0.3.22,!=0.3.3,!=0.3.4,!=0.3.5,!=0.3.6,!=0.3.7,!=0.3.8,!=0.3.9,<0.4.0,>=0.2.43->langgraph==0.2.64) (1.33)\n",
            "Requirement already satisfied: PyYAML>=5.3 in /usr/local/lib/python3.11/dist-packages (from langchain-core!=0.3.0,!=0.3.1,!=0.3.10,!=0.3.11,!=0.3.12,!=0.3.13,!=0.3.14,!=0.3.15,!=0.3.16,!=0.3.17,!=0.3.18,!=0.3.19,!=0.3.2,!=0.3.20,!=0.3.21,!=0.3.22,!=0.3.3,!=0.3.4,!=0.3.5,!=0.3.6,!=0.3.7,!=0.3.8,!=0.3.9,<0.4.0,>=0.2.43->langgraph==0.2.64) (6.0.2)\n",
            "Requirement already satisfied: packaging<25,>=23.2 in /usr/local/lib/python3.11/dist-packages (from langchain-core!=0.3.0,!=0.3.1,!=0.3.10,!=0.3.11,!=0.3.12,!=0.3.13,!=0.3.14,!=0.3.15,!=0.3.16,!=0.3.17,!=0.3.18,!=0.3.19,!=0.3.2,!=0.3.20,!=0.3.21,!=0.3.22,!=0.3.3,!=0.3.4,!=0.3.5,!=0.3.6,!=0.3.7,!=0.3.8,!=0.3.9,<0.4.0,>=0.2.43->langgraph==0.2.64) (24.2)\n",
            "Requirement already satisfied: typing-extensions>=4.7 in /usr/local/lib/python3.11/dist-packages (from langchain-core!=0.3.0,!=0.3.1,!=0.3.10,!=0.3.11,!=0.3.12,!=0.3.13,!=0.3.14,!=0.3.15,!=0.3.16,!=0.3.17,!=0.3.18,!=0.3.19,!=0.3.2,!=0.3.20,!=0.3.21,!=0.3.22,!=0.3.3,!=0.3.4,!=0.3.5,!=0.3.6,!=0.3.7,!=0.3.8,!=0.3.9,<0.4.0,>=0.2.43->langgraph==0.2.64) (4.13.2)\n",
            "Requirement already satisfied: pydantic<3.0.0,>=2.5.2 in /usr/local/lib/python3.11/dist-packages (from langchain-core!=0.3.0,!=0.3.1,!=0.3.10,!=0.3.11,!=0.3.12,!=0.3.13,!=0.3.14,!=0.3.15,!=0.3.16,!=0.3.17,!=0.3.18,!=0.3.19,!=0.3.2,!=0.3.20,!=0.3.21,!=0.3.22,!=0.3.3,!=0.3.4,!=0.3.5,!=0.3.6,!=0.3.7,!=0.3.8,!=0.3.9,<0.4.0,>=0.2.43->langgraph==0.2.64) (2.11.4)\n",
            "Collecting ormsgpack<2.0.0,>=1.8.0 (from langgraph-checkpoint<3.0.0,>=2.0.10->langgraph==0.2.64)\n",
            "  Downloading ormsgpack-1.10.0-cp311-cp311-manylinux_2_17_x86_64.manylinux2014_x86_64.whl.metadata (43 kB)\n",
            "\u001b[2K     \u001b[90m━━━━━━━━━━━━━━━━━━━━━━━━━━━━━━━━━━━━━━━━\u001b[0m \u001b[32m43.7/43.7 kB\u001b[0m \u001b[31m3.1 MB/s\u001b[0m eta \u001b[36m0:00:00\u001b[0m\n",
            "\u001b[?25hRequirement already satisfied: httpx>=0.25.2 in /usr/local/lib/python3.11/dist-packages (from langgraph-sdk<0.2.0,>=0.1.42->langgraph==0.2.64) (0.28.1)\n",
            "Requirement already satisfied: orjson>=3.10.1 in /usr/local/lib/python3.11/dist-packages (from langgraph-sdk<0.2.0,>=0.1.42->langgraph==0.2.64) (3.10.18)\n",
            "Requirement already satisfied: anyio in /usr/local/lib/python3.11/dist-packages (from httpx>=0.25.2->langgraph-sdk<0.2.0,>=0.1.42->langgraph==0.2.64) (4.9.0)\n",
            "Requirement already satisfied: certifi in /usr/local/lib/python3.11/dist-packages (from httpx>=0.25.2->langgraph-sdk<0.2.0,>=0.1.42->langgraph==0.2.64) (2025.4.26)\n",
            "Requirement already satisfied: httpcore==1.* in /usr/local/lib/python3.11/dist-packages (from httpx>=0.25.2->langgraph-sdk<0.2.0,>=0.1.42->langgraph==0.2.64) (1.0.9)\n",
            "Requirement already satisfied: idna in /usr/local/lib/python3.11/dist-packages (from httpx>=0.25.2->langgraph-sdk<0.2.0,>=0.1.42->langgraph==0.2.64) (3.10)\n",
            "Requirement already satisfied: h11>=0.16 in /usr/local/lib/python3.11/dist-packages (from httpcore==1.*->httpx>=0.25.2->langgraph-sdk<0.2.0,>=0.1.42->langgraph==0.2.64) (0.16.0)\n",
            "Requirement already satisfied: jsonpointer>=1.9 in /usr/local/lib/python3.11/dist-packages (from jsonpatch<2.0,>=1.33->langchain-core!=0.3.0,!=0.3.1,!=0.3.10,!=0.3.11,!=0.3.12,!=0.3.13,!=0.3.14,!=0.3.15,!=0.3.16,!=0.3.17,!=0.3.18,!=0.3.19,!=0.3.2,!=0.3.20,!=0.3.21,!=0.3.22,!=0.3.3,!=0.3.4,!=0.3.5,!=0.3.6,!=0.3.7,!=0.3.8,!=0.3.9,<0.4.0,>=0.2.43->langgraph==0.2.64) (3.0.0)\n",
            "Requirement already satisfied: requests<3,>=2 in /usr/local/lib/python3.11/dist-packages (from langsmith<0.4,>=0.1.125->langchain-core!=0.3.0,!=0.3.1,!=0.3.10,!=0.3.11,!=0.3.12,!=0.3.13,!=0.3.14,!=0.3.15,!=0.3.16,!=0.3.17,!=0.3.18,!=0.3.19,!=0.3.2,!=0.3.20,!=0.3.21,!=0.3.22,!=0.3.3,!=0.3.4,!=0.3.5,!=0.3.6,!=0.3.7,!=0.3.8,!=0.3.9,<0.4.0,>=0.2.43->langgraph==0.2.64) (2.32.3)\n",
            "Requirement already satisfied: requests-toolbelt<2.0.0,>=1.0.0 in /usr/local/lib/python3.11/dist-packages (from langsmith<0.4,>=0.1.125->langchain-core!=0.3.0,!=0.3.1,!=0.3.10,!=0.3.11,!=0.3.12,!=0.3.13,!=0.3.14,!=0.3.15,!=0.3.16,!=0.3.17,!=0.3.18,!=0.3.19,!=0.3.2,!=0.3.20,!=0.3.21,!=0.3.22,!=0.3.3,!=0.3.4,!=0.3.5,!=0.3.6,!=0.3.7,!=0.3.8,!=0.3.9,<0.4.0,>=0.2.43->langgraph==0.2.64) (1.0.0)\n",
            "Requirement already satisfied: annotated-types>=0.6.0 in /usr/local/lib/python3.11/dist-packages (from pydantic<3.0.0,>=2.5.2->langchain-core!=0.3.0,!=0.3.1,!=0.3.10,!=0.3.11,!=0.3.12,!=0.3.13,!=0.3.14,!=0.3.15,!=0.3.16,!=0.3.17,!=0.3.18,!=0.3.19,!=0.3.2,!=0.3.20,!=0.3.21,!=0.3.22,!=0.3.3,!=0.3.4,!=0.3.5,!=0.3.6,!=0.3.7,!=0.3.8,!=0.3.9,<0.4.0,>=0.2.43->langgraph==0.2.64) (0.7.0)\n",
            "Requirement already satisfied: pydantic-core==2.33.2 in /usr/local/lib/python3.11/dist-packages (from pydantic<3.0.0,>=2.5.2->langchain-core!=0.3.0,!=0.3.1,!=0.3.10,!=0.3.11,!=0.3.12,!=0.3.13,!=0.3.14,!=0.3.15,!=0.3.16,!=0.3.17,!=0.3.18,!=0.3.19,!=0.3.2,!=0.3.20,!=0.3.21,!=0.3.22,!=0.3.3,!=0.3.4,!=0.3.5,!=0.3.6,!=0.3.7,!=0.3.8,!=0.3.9,<0.4.0,>=0.2.43->langgraph==0.2.64) (2.33.2)\n",
            "Requirement already satisfied: typing-inspection>=0.4.0 in /usr/local/lib/python3.11/dist-packages (from pydantic<3.0.0,>=2.5.2->langchain-core!=0.3.0,!=0.3.1,!=0.3.10,!=0.3.11,!=0.3.12,!=0.3.13,!=0.3.14,!=0.3.15,!=0.3.16,!=0.3.17,!=0.3.18,!=0.3.19,!=0.3.2,!=0.3.20,!=0.3.21,!=0.3.22,!=0.3.3,!=0.3.4,!=0.3.5,!=0.3.6,!=0.3.7,!=0.3.8,!=0.3.9,<0.4.0,>=0.2.43->langgraph==0.2.64) (0.4.0)\n",
            "Requirement already satisfied: charset-normalizer<4,>=2 in /usr/local/lib/python3.11/dist-packages (from requests<3,>=2->langsmith<0.4,>=0.1.125->langchain-core!=0.3.0,!=0.3.1,!=0.3.10,!=0.3.11,!=0.3.12,!=0.3.13,!=0.3.14,!=0.3.15,!=0.3.16,!=0.3.17,!=0.3.18,!=0.3.19,!=0.3.2,!=0.3.20,!=0.3.21,!=0.3.22,!=0.3.3,!=0.3.4,!=0.3.5,!=0.3.6,!=0.3.7,!=0.3.8,!=0.3.9,<0.4.0,>=0.2.43->langgraph==0.2.64) (3.4.2)\n",
            "Requirement already satisfied: urllib3<3,>=1.21.1 in /usr/local/lib/python3.11/dist-packages (from requests<3,>=2->langsmith<0.4,>=0.1.125->langchain-core!=0.3.0,!=0.3.1,!=0.3.10,!=0.3.11,!=0.3.12,!=0.3.13,!=0.3.14,!=0.3.15,!=0.3.16,!=0.3.17,!=0.3.18,!=0.3.19,!=0.3.2,!=0.3.20,!=0.3.21,!=0.3.22,!=0.3.3,!=0.3.4,!=0.3.5,!=0.3.6,!=0.3.7,!=0.3.8,!=0.3.9,<0.4.0,>=0.2.43->langgraph==0.2.64) (2.4.0)\n",
            "Requirement already satisfied: sniffio>=1.1 in /usr/local/lib/python3.11/dist-packages (from anyio->httpx>=0.25.2->langgraph-sdk<0.2.0,>=0.1.42->langgraph==0.2.64) (1.3.1)\n",
            "Downloading langgraph-0.2.64-py3-none-any.whl (142 kB)\n",
            "\u001b[2K   \u001b[90m━━━━━━━━━━━━━━━━━━━━━━━━━━━━━━━━━━━━━━━━\u001b[0m \u001b[32m142.6/142.6 kB\u001b[0m \u001b[31m12.2 MB/s\u001b[0m eta \u001b[36m0:00:00\u001b[0m\n",
            "\u001b[?25hDownloading langgraph_checkpoint-2.0.26-py3-none-any.whl (44 kB)\n",
            "\u001b[2K   \u001b[90m━━━━━━━━━━━━━━━━━━━━━━━━━━━━━━━━━━━━━━━━\u001b[0m \u001b[32m44.2/44.2 kB\u001b[0m \u001b[31m3.7 MB/s\u001b[0m eta \u001b[36m0:00:00\u001b[0m\n",
            "\u001b[?25hDownloading langgraph_sdk-0.1.70-py3-none-any.whl (49 kB)\n",
            "\u001b[2K   \u001b[90m━━━━━━━━━━━━━━━━━━━━━━━━━━━━━━━━━━━━━━━━\u001b[0m \u001b[32m50.0/50.0 kB\u001b[0m \u001b[31m4.3 MB/s\u001b[0m eta \u001b[36m0:00:00\u001b[0m\n",
            "\u001b[?25hDownloading ormsgpack-1.10.0-cp311-cp311-manylinux_2_17_x86_64.manylinux2014_x86_64.whl (216 kB)\n",
            "\u001b[2K   \u001b[90m━━━━━━━━━━━━━━━━━━━━━━━━━━━━━━━━━━━━━━━━\u001b[0m \u001b[32m216.5/216.5 kB\u001b[0m \u001b[31m19.2 MB/s\u001b[0m eta \u001b[36m0:00:00\u001b[0m\n",
            "\u001b[?25hInstalling collected packages: ormsgpack, langgraph-sdk, langgraph-checkpoint, langgraph\n",
            "Successfully installed langgraph-0.2.64 langgraph-checkpoint-2.0.26 langgraph-sdk-0.1.70 ormsgpack-1.10.0\n"
          ]
        }
      ],
      "source": [
        "!pip install langchain==0.3.14\n",
        "!pip install langchain-openai==0.3.0\n",
        "!pip install langchain-community==0.3.14\n",
        "!pip install langgraph==0.2.64"
      ]
    },
    {
      "cell_type": "markdown",
      "source": [
        "## Enter Open AI API Key"
      ],
      "metadata": {
        "id": "H9c37cLnSrbg"
      },
      "id": "H9c37cLnSrbg"
    },
    {
      "cell_type": "code",
      "source": [
        "from getpass import getpass\n",
        "\n",
        "OPENAI_KEY = getpass('Enter Open AI API Key: ')"
      ],
      "metadata": {
        "id": "cv3JzCEx_PAd",
        "colab": {
          "base_uri": "https://localhost:8080/"
        },
        "outputId": "1e017b62-9f75-473a-c631-0bb5c2f67f5f"
      },
      "execution_count": 2,
      "outputs": [
        {
          "name": "stdout",
          "output_type": "stream",
          "text": [
            "Enter Open AI API Key: ··········\n"
          ]
        }
      ],
      "id": "cv3JzCEx_PAd"
    },
    {
      "cell_type": "markdown",
      "source": [
        "## Setup Environment Variables"
      ],
      "metadata": {
        "id": "1T0s0um5Svfa"
      },
      "id": "1T0s0um5Svfa"
    },
    {
      "cell_type": "code",
      "source": [
        "import os\n",
        "\n",
        "os.environ['OPENAI_API_KEY'] = OPENAI_KEY"
      ],
      "metadata": {
        "id": "x1YSuHNF_lbh"
      },
      "execution_count": 3,
      "outputs": [],
      "id": "x1YSuHNF_lbh"
    },
    {
      "cell_type": "markdown",
      "source": [
        "## Define Agent State Schema"
      ],
      "metadata": {
        "id": "E1OZCIkyYYzt"
      },
      "id": "E1OZCIkyYYzt"
    },
    {
      "cell_type": "code",
      "source": [
        "from typing_extensions import TypedDict\n",
        "from pydantic import BaseModel\n",
        "import operator\n",
        "from typing import Annotated\n",
        "\n",
        "# Define state\n",
        "class Questions(BaseModel):\n",
        "    questions: list[str]\n",
        "\n",
        "class Answer(BaseModel):\n",
        "    question: str\n",
        "    answer: str\n",
        "\n",
        "class Report(BaseModel):\n",
        "    report: str\n",
        "\n",
        "class OverallState(TypedDict):\n",
        "    topic: str\n",
        "    questions: list\n",
        "    answers: Annotated[list, operator.add]\n",
        "    report: str"
      ],
      "metadata": {
        "id": "o7EnucYkRb6f"
      },
      "id": "o7EnucYkRb6f",
      "execution_count": 4,
      "outputs": []
    },
    {
      "cell_type": "markdown",
      "source": [
        "## Role of the Send Function\n",
        "Dynamic Distribution: Dispatches varying state payloads to multiple node instances for parallel execution.\n",
        "\n",
        "Adaptive Workflows: Useful when the number of parallel tasks isn't fixed—e.g., generating a random number of questions or steps and processing each in parallel."
      ],
      "metadata": {
        "id": "8UUj4MMIYfuH"
      },
      "id": "8UUj4MMIYfuH"
    },
    {
      "cell_type": "code",
      "source": [
        "from langgraph.constants import Send\n",
        "from langchain_openai import ChatOpenAI\n",
        "\n",
        "llm = ChatOpenAI(model=\"gpt-4o\", temperature=0)\n",
        "\n",
        "# Node to generate questions\n",
        "def generate_questions(state: OverallState):\n",
        "    questions_prompt = questions_prompt = f\"\"\"\n",
        "      You are helping to build a report. Generate a list of concise sub-questions that would help explore the topic: \"{state['topic']}\".\n",
        "\n",
        "      Follow these instructions:\n",
        "      1. Keep each question short, focused, and relevant to the topic.\n",
        "      2. First, decide if the topic is SIMPLE or COMPLEX based on its specificity:\n",
        "        - SIMPLE topics are broad or introductory (e.g., \"What is AI?\", \"Benefits of exercise\", \"History of birds\")\n",
        "        - COMPLEX topics are analytical or require deeper breakdown (e.g., \"How to improve sales using AI?\", \"Impact of AI on customer behavior\", \"Strategies to optimize GTM\")\n",
        "      3. If the topic is SIMPLE, generate exactly 3 questions.\n",
        "        If the topic is COMPLEX, generate exactly 5 questions.\n",
        "      4. Do NOT explain your reasoning — only output the list of questions.\n",
        "      \"\"\".strip()\n",
        "\n",
        "    prompt = questions_prompt.format(topic=state[\"topic\"])\n",
        "    response = llm.with_structured_output(Questions).invoke(prompt)\n",
        "    return {\"questions\": response.questions}\n",
        "\n",
        "# Node to generate answer to one question\n",
        "def generate_answer(state: Answer):\n",
        "    answer_prompt = \"\"\"Generate the answer about {question}.\"\"\"\n",
        "    prompt = f\"Generate the answer about {state['question']}.\"\n",
        "    response = llm.with_structured_output(Answer).invoke(prompt)\n",
        "    return {\"answers\": [{\"question\": state[\"question\"], \"answer\": response.answer}]}\n",
        "\n",
        "# Node to continue to answers\n",
        "def continue_to_answers(state: OverallState):\n",
        "    questions = state.get(\"questions\", [])\n",
        "    return [Send(\"generate_answer\", {\"question\": q}) for q in questions] #parallel questions\n",
        "\n",
        "\n",
        "# Node to compile the report\n",
        "def compile_report(state: OverallState):\n",
        "    q_and_a = \"\\n\\n\".join(\n",
        "        [f\"Q: {qa['question']}\\nA: {qa['answer']}\" for qa in state[\"answers\"]]\n",
        "    )\n",
        "    report_prompt = \"\"\"\n",
        "        Below are a set of questions and answers about the topic: {topic}.\n",
        "\n",
        "        Generate a clear and informative report summarizing the main points.\n",
        "        - Keep the report under 300 words.\n",
        "        - Use concise language.\n",
        "        - Avoid repeating the original Q&A.\n",
        "        - Do not exceed 5 paragraphs.\n",
        "\n",
        "        Q&A:\n",
        "        {q_and_a}\n",
        "        \"\"\".strip()\n",
        "\n",
        "    prompt = report_prompt.format(topic=state[\"topic\"], q_and_a=q_and_a)\n",
        "    response = llm.with_structured_output(Report).invoke(prompt)\n",
        "    return {\"report\": response.report}\n",
        "\n"
      ],
      "metadata": {
        "id": "hZ-LxJ5YRb82"
      },
      "id": "hZ-LxJ5YRb82",
      "execution_count": 23,
      "outputs": []
    },
    {
      "cell_type": "markdown",
      "source": [
        "## Create Agent"
      ],
      "metadata": {
        "id": "yuRbxOMMYjMS"
      },
      "id": "yuRbxOMMYjMS"
    },
    {
      "cell_type": "code",
      "source": [
        "from langgraph.graph import StateGraph, START, END\n",
        "\n",
        "# Compile the graph\n",
        "graph = StateGraph(OverallState)\n",
        "graph.add_node(\"generate_questions\", generate_questions)\n",
        "graph.add_node(\"generate_answer\", generate_answer)\n",
        "graph.add_node(\"compile_report\", compile_report)\n",
        "\n",
        "graph.add_edge(START, \"generate_questions\")\n",
        "graph.add_conditional_edges(\"generate_questions\",\n",
        "                            continue_to_answers,\n",
        "                            [\"generate_answer\"])\n",
        "graph.add_edge(\"generate_answer\", \"compile_report\")\n",
        "graph.add_edge(\"compile_report\", END)\n",
        "\n",
        "# Compile the app\n",
        "agent = graph.compile()"
      ],
      "metadata": {
        "id": "1a1p_mpwRb_C"
      },
      "id": "1a1p_mpwRb_C",
      "execution_count": 24,
      "outputs": []
    },
    {
      "cell_type": "code",
      "source": [
        "# Display the graph\n",
        "from IPython.display import display, Image\n",
        "Image(agent.get_graph().draw_mermaid_png())"
      ],
      "metadata": {
        "colab": {
          "base_uri": "https://localhost:8080/",
          "height": 449
        },
        "id": "Te1lHnkqRcBH",
        "outputId": "7692be08-94e5-439d-a333-730347531fe0"
      },
      "id": "Te1lHnkqRcBH",
      "execution_count": 7,
      "outputs": [
        {
          "output_type": "execute_result",
          "data": {
            "image/png": "[encoded data removed]",
            "text/plain": [
              "<IPython.core.display.Image object>"
            ]
          },
          "metadata": {},
          "execution_count": 7
        }
      ]
    },
    {
      "cell_type": "markdown",
      "source": [
        "## Run and Test the Agent"
      ],
      "metadata": {
        "id": "sUfJrGBAYv64"
      },
      "id": "sUfJrGBAYv64"
    },
    {
      "cell_type": "code",
      "source": [
        "from IPython.display import display, Markdown\n",
        "\n",
        "for state in agent.stream({\"topic\": \"AI Agents\"}):\n",
        "    print(state)\n",
        "    if 'compile_report' in state:\n",
        "        display(Markdown(state['compile_report']['report']))"
      ],
      "metadata": {
        "colab": {
          "base_uri": "https://localhost:8080/",
          "height": 760
        },
        "id": "UYB9crmZRcDD",
        "outputId": "cfbcac29-3039-409e-b500-4deae5421f2d",
        "collapsed": true
      },
      "id": "UYB9crmZRcDD",
      "execution_count": 25,
      "outputs": [
        {
          "output_type": "stream",
          "name": "stdout",
          "text": [
            "{'generate_questions': {'questions': ['What are AI agents?', 'How do AI agents function?', 'What are the different types of AI agents?', 'What are the primary applications of AI agents?', 'How do AI agents impact decision-making processes?']}}\n",
            "{'generate_answer': {'answers': [{'question': 'What are the primary applications of AI agents?', 'answer': 'AI agents are versatile tools that can be applied across various domains to enhance efficiency, decision-making, and user experience. Here are some of the primary applications of AI agents:\\n\\n1. **Customer Service and Support:**\\n   - **Chatbots:** AI agents can handle customer inquiries, provide information, and resolve issues through text or voice interactions.\\n   - **Virtual Assistants:** These agents help users manage tasks, schedule appointments, and provide reminders.\\n\\n2. **Healthcare:**\\n   - **Diagnostic Tools:** AI agents assist in analyzing medical images, predicting patient outcomes, and suggesting treatment plans.\\n   - **Patient Monitoring:** They track patient data in real-time to alert healthcare providers of any anomalies.\\n\\n3. **Finance:**\\n   - **Fraud Detection:** AI agents analyze transaction patterns to identify and prevent fraudulent activities.\\n   - **Algorithmic Trading:** They execute trades at optimal times based on market data analysis.\\n\\n4. **Retail and E-commerce:**\\n   - **Personalized Recommendations:** AI agents analyze user behavior to suggest products tailored to individual preferences.\\n   - **Inventory Management:** They predict demand and optimize stock levels to reduce waste and improve sales.\\n\\n5. **Manufacturing:**\\n   - **Predictive Maintenance:** AI agents monitor equipment health to predict failures and schedule maintenance.\\n   - **Quality Control:** They inspect products for defects using image recognition and other data analysis techniques.\\n\\n6. **Transportation:**\\n   - **Autonomous Vehicles:** AI agents control self-driving cars, optimizing routes and ensuring safety.\\n   - **Traffic Management:** They analyze traffic patterns to improve flow and reduce congestion.\\n\\n7. **Education:**\\n   - **Personalized Learning:** AI agents tailor educational content to individual learning styles and paces.\\n   - **Administrative Tasks:** They automate grading and manage student records.\\n\\n8. **Energy Management:**\\n   - **Smart Grids:** AI agents optimize energy distribution and consumption to improve efficiency.\\n   - **Renewable Energy Forecasting:** They predict energy production from renewable sources to balance supply and demand.\\n\\n9. **Security and Surveillance:**\\n   - **Threat Detection:** AI agents analyze data to identify potential security threats and breaches.\\n   - **Facial Recognition:** They enhance security by identifying individuals in real-time.\\n\\n10. **Entertainment:**\\n    - **Content Creation:** AI agents assist in generating music, art, and writing.\\n    - **Game Development:** They create adaptive and intelligent non-player characters (NPCs) for immersive experiences.\\n\\nAI agents continue to evolve, finding new applications and improving existing processes across industries, making them indispensable in the modern world.'}]}}\n",
            "{'generate_answer': {'answers': [{'question': 'What are AI agents?', 'answer': 'AI agents are software entities that perform tasks autonomously or semi-autonomously on behalf of a user or another program. They are designed to perceive their environment, make decisions, and take actions to achieve specific goals. AI agents can vary in complexity, from simple rule-based systems to sophisticated models that leverage machine learning and deep learning techniques.\\n\\n### Key Characteristics of AI Agents:\\n\\n1. **Autonomy:**\\n   - AI agents operate without direct human intervention, making decisions based on their programming and the data they receive.\\n\\n2. **Perception:**\\n   - They gather information from their environment through sensors or data inputs, which can include visual, auditory, or textual data.\\n\\n3. **Decision-Making:**\\n   - AI agents use algorithms to process information and make decisions. This can involve rule-based logic, probabilistic reasoning, or learning from data.\\n\\n4. **Action:**\\n   - Once a decision is made, AI agents take actions to achieve their objectives. This could involve sending commands to other systems, interacting with users, or modifying their environment.\\n\\n5. **Adaptability:**\\n   - Many AI agents can learn from their experiences and adapt their behavior over time to improve performance or respond to changing conditions.\\n\\n### Types of AI Agents:\\n\\n- **Reactive Agents:**\\n  - These agents respond to changes in the environment without maintaining an internal state. They are typically simple and fast.\\n\\n- **Deliberative Agents:**\\n  - These agents maintain an internal model of the world and use it to plan actions. They are capable of more complex decision-making.\\n\\n- **Hybrid Agents:**\\n  - Combining features of both reactive and deliberative agents, hybrid agents can respond quickly while also planning for future actions.\\n\\n- **Learning Agents:**\\n  - These agents improve their performance over time by learning from their experiences and adapting to new situations.\\n\\n### Applications of AI Agents:\\n\\n- **Virtual Assistants:**\\n  - Examples include Siri, Alexa, and Google Assistant, which help users perform tasks through voice commands.\\n\\n- **Autonomous Vehicles:**\\n  - AI agents in self-driving cars perceive the environment, make driving decisions, and navigate roads safely.\\n\\n- **Robotics:**\\n  - Robots equipped with AI agents can perform tasks ranging from manufacturing to healthcare assistance.\\n\\n- **Game AI:**\\n  - In video games, AI agents control non-player characters (NPCs) to create challenging and dynamic gameplay experiences.\\n\\n- **Financial Trading:**\\n  - AI agents analyze market data and execute trades based on predefined strategies or learned patterns.\\n\\nAI agents are integral to the advancement of technology, enabling systems to perform complex tasks efficiently and effectively, often surpassing human capabilities in specific domains.'}]}}\n",
            "{'generate_answer': {'answers': [{'question': 'How do AI agents impact decision-making processes?', 'answer': 'AI agents have significantly transformed decision-making processes across various sectors by enhancing efficiency, accuracy, and insight generation. Here are several ways AI agents impact decision-making:\\n\\n1. **Data Analysis and Insights:**\\n   - **Data Processing:** AI agents can process vast amounts of data quickly, identifying patterns and trends that might be missed by human analysis.\\n   - **Predictive Analytics:** By using historical data, AI can predict future trends, helping organizations make informed decisions.\\n\\n2. **Speed and Efficiency:**\\n   - **Real-time Decision Making:** AI agents can analyze data and provide recommendations in real-time, allowing for quicker responses to changing conditions.\\n   - **Automation of Routine Decisions:** AI can handle routine decision-making tasks, freeing up human resources for more complex issues.\\n\\n3. **Improved Accuracy:**\\n   - **Error Reduction:** AI systems can reduce human error in decision-making by providing consistent and unbiased analysis.\\n   - **Enhanced Precision:** AI can offer precise recommendations based on comprehensive data analysis, improving the quality of decisions.\\n\\n4. **Personalization and Customization:**\\n   - **Tailored Solutions:** AI agents can provide personalized recommendations based on individual preferences and behaviors, enhancing customer satisfaction.\\n   - **Adaptive Learning:** AI systems can learn from interactions and adapt their recommendations over time, improving decision relevance.\\n\\n5. **Risk Management:**\\n   - **Risk Assessment:** AI can evaluate potential risks and provide insights into risk mitigation strategies, aiding in more secure decision-making.\\n   - **Scenario Analysis:** AI can simulate various scenarios to assess potential outcomes, helping organizations prepare for different possibilities.\\n\\n6. **Strategic Planning:**\\n   - **Long-term Forecasting:** AI can assist in strategic planning by providing long-term forecasts and identifying potential opportunities and threats.\\n   - **Resource Allocation:** AI can optimize resource allocation by analyzing data on resource usage and needs.\\n\\n7. **Enhanced Collaboration:**\\n   - **Cross-functional Insights:** AI can integrate data from various departments, providing a holistic view that supports collaborative decision-making.\\n   - **Communication Facilitation:** AI tools can facilitate communication and information sharing among team members, improving decision-making processes.\\n\\n8. **Ethical and Bias Considerations:**\\n   - **Bias Detection:** AI can help identify and mitigate biases in decision-making processes, promoting fairness and equality.\\n   - **Ethical Decision Support:** AI can provide insights into the ethical implications of decisions, supporting more responsible choices.\\n\\nIn summary, AI agents enhance decision-making by providing data-driven insights, improving efficiency, and enabling more informed and strategic choices. However, it is crucial to ensure that AI systems are designed and implemented responsibly to avoid potential biases and ethical concerns.'}]}}\n",
            "{'generate_answer': {'answers': [{'question': 'What are the different types of AI agents?', 'answer': 'Artificial Intelligence (AI) agents are systems that perceive their environment through sensors and act upon that environment through actuators. They are designed to achieve specific goals by processing information and making decisions. AI agents can be categorized based on their capabilities and the complexity of their decision-making processes. Here are the different types of AI agents:\\n\\n### 1. **Simple Reflex Agents**\\n- **Description**: These agents operate on a condition-action rule, meaning they respond to specific inputs with predefined actions.\\n- **Characteristics**: \\n  - No memory of past actions or states.\\n  - React to current percepts only.\\n  - Suitable for environments that are fully observable.\\n- **Example**: A thermostat that turns on the heater when the temperature drops below a certain point.\\n\\n### 2. **Model-Based Reflex Agents**\\n- **Description**: These agents maintain an internal model of the world to handle partially observable environments.\\n- **Characteristics**:\\n  - Use a model to keep track of unobservable aspects of the environment.\\n  - Can handle more complex tasks than simple reflex agents.\\n- **Example**: A robot vacuum that remembers the layout of a room to clean efficiently.\\n\\n### 3. **Goal-Based Agents**\\n- **Description**: These agents act to achieve specific goals, using a combination of current percepts and a model of the world.\\n- **Characteristics**:\\n  - Decision-making is driven by goal achievement.\\n  - Can evaluate different actions based on their potential to achieve the goal.\\n- **Example**: A GPS navigation system that finds the shortest route to a destination.\\n\\n### 4. **Utility-Based Agents**\\n- **Description**: These agents aim to maximize a utility function, which quantifies the desirability of different states.\\n- **Characteristics**:\\n  - Consider multiple factors to determine the best action.\\n  - Can handle trade-offs between conflicting goals.\\n- **Example**: An autonomous car that balances speed, safety, and fuel efficiency.\\n\\n### 5. **Learning Agents**\\n- **Description**: These agents improve their performance over time by learning from experiences.\\n- **Characteristics**:\\n  - Adapt to changes in the environment.\\n  - Use feedback to refine their decision-making processes.\\n- **Example**: A recommendation system that personalizes suggestions based on user interactions.\\n\\n### 6. **Collaborative Agents**\\n- **Description**: These agents work together with other agents or humans to achieve common goals.\\n- **Characteristics**:\\n  - Communicate and coordinate with other agents.\\n  - Share information and resources.\\n- **Example**: Multi-agent systems in logistics that optimize supply chain operations.\\n\\n### Conclusion\\nAI agents vary in complexity and capability, from simple reflex agents that react to specific stimuli to advanced learning agents that adapt and improve over time. The choice of agent type depends on the specific requirements and constraints of the task or environment they are designed to operate in.'}]}}\n",
            "{'generate_answer': {'answers': [{'question': 'How do AI agents function?', 'answer': \"AI agents function by utilizing a combination of algorithms, data, and computational power to perform tasks that typically require human intelligence. Here's a breakdown of how they operate:\\n\\n### 1. **Perception**\\n- **Data Collection:** AI agents gather data from their environment through sensors or input devices. This data can be in the form of text, images, audio, or other sensory inputs.\\n- **Preprocessing:** The raw data is often preprocessed to remove noise and make it suitable for analysis. This may involve normalization, filtering, or transformation.\\n\\n### 2. **Understanding**\\n- **Pattern Recognition:** AI agents use machine learning algorithms to identify patterns and relationships within the data. This can involve supervised learning, unsupervised learning, or reinforcement learning.\\n- **Natural Language Processing (NLP):** For tasks involving human language, AI agents use NLP to understand and generate human language, enabling them to interpret text and speech.\\n\\n### 3. **Reasoning**\\n- **Decision Making:** AI agents apply logical reasoning to make decisions based on the data they have processed. This can involve rule-based systems, decision trees, or more complex models like neural networks.\\n- **Predictive Analysis:** By analyzing historical data, AI agents can predict future outcomes and trends, aiding in decision-making processes.\\n\\n### 4. **Action**\\n- **Execution:** Once a decision is made, AI agents execute actions to achieve their goals. This could involve controlling a robot, generating a response, or updating a database.\\n- **Feedback Loop:** AI agents often operate in a feedback loop, where the outcomes of their actions are evaluated, and the system is adjusted accordingly to improve future performance.\\n\\n### 5. **Learning and Adaptation**\\n- **Continuous Learning:** AI agents can learn from new data and experiences, allowing them to adapt to changing environments and improve over time.\\n- **Model Updating:** Machine learning models are periodically updated with new data to refine their accuracy and efficiency.\\n\\n### 6. **Collaboration**\\n- **Multi-Agent Systems:** In some cases, AI agents work collaboratively with other agents or humans to achieve complex tasks, sharing information and coordinating actions.\\n\\n### Conclusion\\nAI agents function by mimicking cognitive processes through advanced algorithms and computational techniques. They are designed to perceive their environment, understand and process information, make informed decisions, and take actions to achieve specific objectives, all while continuously learning and adapting to new data and situations.\"}]}}\n",
            "{'compile_report': {'report': '### Overview of AI Agents\\nAI agents are autonomous or semi-autonomous software entities designed to perform tasks on behalf of users or other programs. They perceive their environment, make decisions, and take actions to achieve specific goals. These agents range from simple rule-based systems to complex models utilizing machine learning and deep learning techniques.\\n\\n### Characteristics and Functionality\\nAI agents are characterized by their autonomy, perception, decision-making, action, and adaptability. They operate independently, gather information through sensors or data inputs, process this information using algorithms, and execute actions to meet their objectives. Many AI agents can learn from experiences, adapting their behavior to improve performance over time.\\n\\n### Types of AI Agents\\nAI agents can be categorized into several types based on their capabilities:\\n- **Reactive Agents** respond to environmental changes without maintaining an internal state.\\n- **Deliberative Agents** use an internal model to plan actions and make complex decisions.\\n- **Hybrid Agents** combine reactive and deliberative features for quick responses and future planning.\\n- **Learning Agents** improve performance by learning from experiences and adapting to new situations.\\n\\n### Applications Across Industries\\nAI agents are applied in various domains, enhancing efficiency and decision-making:\\n- **Virtual Assistants** like Siri and Alexa help users perform tasks via voice commands.\\n- **Autonomous Vehicles** use AI agents for navigation and safety.\\n- **Robotics** employs AI for tasks in manufacturing and healthcare.\\n- **Financial Trading** utilizes AI for market analysis and trade execution.\\n\\n### Impact on Decision-Making\\nAI agents transform decision-making by providing data-driven insights, improving accuracy, and enabling real-time responses. They automate routine decisions, reduce errors, and offer personalized recommendations. AI agents also assist in risk management and strategic planning, ensuring informed and efficient decision-making processes.\\n\\nIn conclusion, AI agents are pivotal in advancing technology, performing complex tasks efficiently, and often surpassing human capabilities in specific domains. Their continuous evolution and application across industries highlight their indispensable role in the modern world.'}}\n"
          ]
        },
        {
          "output_type": "display_data",
          "data": {
            "text/plain": [
              "<IPython.core.display.Markdown object>"
            ],
            "text/markdown": "### Overview of AI Agents\nAI agents are autonomous or semi-autonomous software entities designed to perform tasks on behalf of users or other programs. They perceive their environment, make decisions, and take actions to achieve specific goals. These agents range from simple rule-based systems to complex models utilizing machine learning and deep learning techniques.\n\n### Characteristics and Functionality\nAI agents are characterized by their autonomy, perception, decision-making, action, and adaptability. They operate independently, gather information through sensors or data inputs, process this information using algorithms, and execute actions to meet their objectives. Many AI agents can learn from experiences, adapting their behavior to improve performance over time.\n\n### Types of AI Agents\nAI agents can be categorized into several types based on their capabilities:\n- **Reactive Agents** respond to environmental changes without maintaining an internal state.\n- **Deliberative Agents** use an internal model to plan actions and make complex decisions.\n- **Hybrid Agents** combine reactive and deliberative features for quick responses and future planning.\n- **Learning Agents** improve performance by learning from experiences and adapting to new situations.\n\n### Applications Across Industries\nAI agents are applied in various domains, enhancing efficiency and decision-making:\n- **Virtual Assistants** like Siri and Alexa help users perform tasks via voice commands.\n- **Autonomous Vehicles** use AI agents for navigation and safety.\n- **Robotics** employs AI for tasks in manufacturing and healthcare.\n- **Financial Trading** utilizes AI for market analysis and trade execution.\n\n### Impact on Decision-Making\nAI agents transform decision-making by providing data-driven insights, improving accuracy, and enabling real-time responses. They automate routine decisions, reduce errors, and offer personalized recommendations. AI agents also assist in risk management and strategic planning, ensuring informed and efficient decision-making processes.\n\nIn conclusion, AI agents are pivotal in advancing technology, performing complex tasks efficiently, and often surpassing human capabilities in specific domains. Their continuous evolution and application across industries highlight their indispensable role in the modern world."
          },
          "metadata": {}
        }
      ]
    },
    {
      "cell_type": "code",
      "source": [
        "for state in agent.stream({\"topic\": \"What is Zatar?\"}):\n",
        "    print(state)\n",
        "    if 'compile_report' in state:\n",
        "        display(Markdown(state['compile_report']['report']))"
      ],
      "metadata": {
        "colab": {
          "base_uri": "https://localhost:8080/",
          "height": 1000
        },
        "id": "lbaRJSh9RcH_",
        "outputId": "99e4a3aa-7aae-4cf3-b6bd-6da62b2f4979"
      },
      "id": "lbaRJSh9RcH_",
      "execution_count": 13,
      "outputs": [
        {
          "output_type": "stream",
          "name": "stdout",
          "text": [
            "{'generate_questions': {'questions': ['What are the main ingredients of Zatar?', 'How is Zatar traditionally used in cooking?', 'What are the health benefits of consuming Zatar?', 'How does Zatar vary across different cultures or regions?', 'What are some popular dishes that feature Zatar?']}}\n",
            "{'generate_answer': {'answers': [{'question': 'What are the main ingredients of Zatar?', 'answer': \"Zatar, also spelled Za'atar, is a traditional Middle Eastern spice blend that is both aromatic and flavorful. It is commonly used in various dishes to add a unique taste and aroma. The main ingredients of Zatar typically include:\\n\\n1. **Thyme**: \\n   - Often the primary herb in Zatar, thyme provides a warm, earthy flavor.\\n\\n2. **Sumac**: \\n   - This reddish-purple spice adds a tangy, lemony taste to the blend.\\n\\n3. **Sesame Seeds**: \\n   - Toasted sesame seeds contribute a nutty flavor and crunchy texture.\\n\\n4. **Salt**: \\n   - Enhances the overall flavor profile of the blend.\\n\\n5. **Oregano**: \\n   - Sometimes included for an additional herbal note.\\n\\n6. **Marjoram**: \\n   - Occasionally added for its sweet, citrusy flavor.\\n\\n### Variations:\\n- **Regional Differences**: Different regions and families may have their own versions of Zatar, sometimes incorporating other herbs and spices like coriander, fennel, or cumin.\\n- **Proportions**: The proportions of each ingredient can vary, leading to subtle differences in taste and aroma.\\n\\n### Uses:\\n- **Culinary Applications**: Zatar is versatile and can be used as a seasoning for meats, vegetables, and breads. It is often mixed with olive oil and spread on flatbreads or used as a rub for grilled meats.\\n- **Dips and Spreads**: It can be sprinkled over hummus or yogurt-based dips for added flavor.\\n\\nZatar is cherished for its ability to enhance dishes with its complex and aromatic profile, making it a staple in Middle Eastern cuisine.\"}]}}\n",
            "{'generate_answer': {'answers': [{'question': 'How does Zatar vary across different cultures or regions?', 'answer': \"Zatar, also spelled za'atar, is a versatile and aromatic spice blend that is widely used in Middle Eastern and Mediterranean cuisines. Its composition and flavor profile can vary significantly across different cultures and regions, reflecting local tastes, available ingredients, and culinary traditions. Here’s how Zatar varies across different regions:\\n\\n### 1. **Levantine Region (Lebanon, Syria, Jordan, and Palestine):**\\n- **Core Ingredients:** The traditional Levantine Zatar typically includes dried thyme, sumac, sesame seeds, and salt.\\n- **Flavor Profile:** It has a tangy and earthy flavor, with the sumac providing a lemony zest.\\n- **Usage:** Commonly used as a topping for flatbreads (manakish), mixed with olive oil as a dip, or sprinkled over salads and roasted vegetables.\\n\\n### 2. **Israeli Zatar:**\\n- **Core Ingredients:** Similar to the Levantine version but may include additional herbs like oregano or marjoram.\\n- **Flavor Profile:** Slightly more herbaceous with a balanced tanginess.\\n- **Usage:** Often used in the same way as in the Levant, but also popular as a seasoning for grilled meats and fish.\\n\\n### 3. **Egyptian Dukkah:**\\n- **Core Ingredients:** While not exactly Zatar, Dukkah is a related spice blend that includes nuts (like hazelnuts or almonds), coriander, cumin, and sesame seeds.\\n- **Flavor Profile:** Nutty and aromatic with a hint of spice.\\n- **Usage:** Used as a dip with bread and olive oil or as a crust for meats and fish.\\n\\n### 4. **Turkish Zatar:**\\n- **Core Ingredients:** May include a mix of dried thyme, oregano, sumac, and sesame seeds, with the addition of cumin or fennel seeds.\\n- **Flavor Profile:** Rich and aromatic with a slightly sweet undertone.\\n- **Usage:** Used in marinades, as a rub for meats, or sprinkled over yogurt-based dishes.\\n\\n### 5. **North African Zatar:**\\n- **Core Ingredients:** Often includes a mix of thyme, oregano, marjoram, and sometimes mint, with the addition of spices like coriander or caraway seeds.\\n- **Flavor Profile:** Complex and aromatic with a hint of sweetness and spice.\\n- **Usage:** Used in tagines, couscous dishes, or as a seasoning for grilled vegetables.\\n\\n### 6. **Gulf Region (Saudi Arabia, UAE, etc.):**\\n- **Core Ingredients:** May include thyme, sumac, sesame seeds, and sometimes dried lime or saffron.\\n- **Flavor Profile:** Fragrant and slightly citrusy.\\n- **Usage:** Used in rice dishes, as a seasoning for lamb, or mixed with honey for a sweet twist.\\n\\n### Conclusion:\\nZatar's adaptability and regional variations make it a beloved spice blend across many cultures. Each version offers a unique taste experience, reflecting the culinary heritage and preferences of its region. Whether used as a seasoning, a dip, or a marinade, Zatar continues to be a staple in kitchens around the world, celebrated for its rich flavors and versatility.\"}]}}\n",
            "{'generate_answer': {'answers': [{'question': 'How is Zatar traditionally used in cooking?', 'answer': \"Zatar, a fragrant and flavorful Middle Eastern spice blend, is a staple in many kitchens across the region. Its unique combination of herbs and spices makes it a versatile ingredient in various culinary applications. Here's how Zatar is traditionally used in cooking:\\n\\n### 1. **As a Seasoning for Bread**\\n- **Zatar Bread:** One of the most popular uses is as a topping for flatbreads, such as manakish or pita. The bread is typically brushed with olive oil and sprinkled generously with Zatar before baking, resulting in a deliciously aromatic and savory treat.\\n\\n### 2. **In Marinades and Rubs**\\n- **Meat and Poultry:** Zatar is often used as a dry rub or mixed into marinades for meats like chicken, lamb, or beef. It imparts a rich, earthy flavor that enhances the natural taste of the meat.\\n- **Grilled Vegetables:** Vegetables like eggplant, zucchini, and bell peppers can be tossed with olive oil and Zatar before grilling for a flavorful side dish.\\n\\n### 3. **As a Condiment**\\n- **Dipping Oil:** Zatar is frequently mixed with olive oil to create a simple yet delicious dipping sauce for bread.\\n- **Sprinkled on Dishes:** It can be sprinkled over hummus, labneh, or yogurt to add an extra layer of flavor.\\n\\n### 4. **In Salads**\\n- **Salad Dressing:** Zatar can be incorporated into vinaigrettes or dressings, adding a zesty and herbal note to salads.\\n- **Tabbouleh:** It can be used to season tabbouleh or other grain-based salads, enhancing their taste with its aromatic profile.\\n\\n### 5. **In Baking**\\n- **Savory Pastries:** Zatar can be used in the filling or as a topping for savory pastries, providing a burst of flavor in every bite.\\n\\n### 6. **In Soups and Stews**\\n- **Flavor Enhancer:** A pinch of Zatar can be added to soups and stews to deepen the flavor profile and add a hint of spice.\\n\\n### 7. **As a Snack**\\n- **Roasted Nuts:** Nuts like almonds or cashews can be roasted with Zatar for a tasty and aromatic snack.\\n- **Popcorn:** Sprinkling Zatar over freshly popped popcorn offers a unique and flavorful twist.\\n\\n### Conclusion\\nZatar's versatility and distinctive taste make it a beloved ingredient in Middle Eastern cuisine. Whether used as a seasoning, condiment, or flavor enhancer, it brings a touch of the exotic to everyday dishes, making it a must-have in any spice collection.\"}]}}\n",
            "{'generate_answer': {'answers': [{'question': 'What are some popular dishes that feature Zatar?', 'answer': 'Zatar, a fragrant and flavorful Middle Eastern spice blend, is a versatile ingredient that enhances a variety of dishes. Here are some popular dishes that prominently feature Zatar:\\n\\n1. **Zatar Manakish:**\\n   - **Description:** A traditional Levantine flatbread topped with a mixture of Zatar and olive oil.\\n   - **Serving Suggestion:** Often enjoyed as a breakfast item or snack, served warm.\\n\\n2. **Zatar Roasted Chicken:**\\n   - **Description:** Chicken marinated with Zatar, olive oil, lemon juice, and garlic, then roasted to perfection.\\n   - **Serving Suggestion:** Pair with rice or a fresh salad for a complete meal.\\n\\n3. **Zatar Hummus:**\\n   - **Description:** Classic hummus topped with a generous sprinkle of Zatar and a drizzle of olive oil.\\n   - **Serving Suggestion:** Serve with pita bread or vegetable sticks for dipping.\\n\\n4. **Zatar Grilled Vegetables:**\\n   - **Description:** A medley of vegetables such as eggplant, zucchini, and bell peppers, tossed with Zatar and grilled.\\n   - **Serving Suggestion:** Serve as a side dish or as part of a mezze platter.\\n\\n5. **Zatar Labneh:**\\n   - **Description:** Creamy labneh (strained yogurt) topped with Zatar and olive oil.\\n   - **Serving Suggestion:** Spread on bread or use as a dip.\\n\\n6. **Zatar Crusted Fish:**\\n   - **Description:** Fish fillets coated with a Zatar crust and baked or pan-fried.\\n   - **Serving Suggestion:** Serve with lemon wedges and a side of couscous or salad.\\n\\n7. **Zatar Pizza:**\\n   - **Description:** A modern twist on pizza, using Zatar as a topping along with cheese and vegetables.\\n   - **Serving Suggestion:** Enjoy as a main dish or appetizer.\\n\\n8. **Zatar Popcorn:**\\n   - **Description:** Popcorn tossed with melted butter and Zatar for a savory snack.\\n   - **Serving Suggestion:** Perfect for movie nights or gatherings.\\n\\n9. **Zatar Roasted Potatoes:**\\n   - **Description:** Potatoes seasoned with Zatar and roasted until crispy.\\n   - **Serving Suggestion:** Serve as a side dish with grilled meats or fish.\\n\\n10. **Zatar Salad:**\\n    - **Description:** A fresh salad with mixed greens, tomatoes, cucumbers, and a Zatar-infused dressing.\\n    - **Serving Suggestion:** Enjoy as a light meal or side dish.\\n\\nThese dishes showcase the versatility of Zatar, allowing its unique flavor to shine in both traditional and contemporary culinary creations.'}]}}\n",
            "{'generate_answer': {'answers': [{'question': 'What are the health benefits of consuming Zatar?', 'answer': \"Zatar, a traditional Middle Eastern spice blend, is not only a flavorful addition to various dishes but also offers several health benefits. Here are some of the key health benefits of consuming Zatar:\\n\\n1. **Rich in Antioxidants:**\\n   - Zatar contains herbs like thyme, oregano, and sumac, which are rich in antioxidants. These compounds help combat oxidative stress and reduce the risk of chronic diseases.\\n\\n2. **Anti-inflammatory Properties:**\\n   - The herbs in Zatar, particularly thyme and oregano, have anti-inflammatory properties that can help reduce inflammation in the body, potentially alleviating symptoms of inflammatory conditions.\\n\\n3. **Supports Digestive Health:**\\n   - The blend often includes sesame seeds, which are a good source of fiber. Fiber aids in digestion and helps maintain a healthy gut.\\n   - Sumac, another component, is known to aid digestion and can help soothe an upset stomach.\\n\\n4. **Boosts Immune System:**\\n   - The herbs in Zatar are known for their immune-boosting properties. Thyme, for instance, is rich in vitamins C and A, which are essential for a healthy immune system.\\n\\n5. **Improves Heart Health:**\\n   - Sesame seeds in Zatar are a source of healthy fats, which can help improve cholesterol levels and support heart health.\\n   - The antioxidants in the blend also contribute to cardiovascular health by reducing oxidative stress.\\n\\n6. **Enhances Cognitive Function:**\\n   - Some studies suggest that the herbs in Zatar, particularly thyme, may have cognitive-enhancing properties, potentially improving memory and concentration.\\n\\n7. **Antimicrobial Effects:**\\n   - The essential oils in thyme and oregano have antimicrobial properties, which can help protect against certain bacterial and fungal infections.\\n\\n8. **Bone Health:**\\n   - Sesame seeds are rich in calcium and magnesium, essential minerals for maintaining strong and healthy bones.\\n\\n9. **Mood Enhancement:**\\n   - The aroma and flavor of Zatar can have mood-enhancing effects, potentially reducing stress and promoting a sense of well-being.\\n\\nIncorporating Zatar into your diet can be a delicious way to enjoy these health benefits. It can be sprinkled on salads, mixed with olive oil as a dip, or used as a seasoning for meats and vegetables. However, as with any spice blend, it's important to consume it in moderation as part of a balanced diet.\"}]}}\n",
            "{'compile_report': {'report': \"### Detailed Report on Zatar\\n\\n**Introduction**\\nZatar, also spelled Za'atar, is a traditional Middle Eastern spice blend renowned for its aromatic and flavorful profile. It is a staple in Middle Eastern cuisine, celebrated for its versatility and the unique taste it imparts to various dishes. This report delves into the composition, culinary uses, health benefits, regional variations, and popular dishes featuring Zatar.\\n\\n---\\n\\n**Composition of Zatar**\\nZatar is a harmonious blend of several key ingredients, each contributing to its distinctive flavor:\\n\\n1. **Thyme**: The primary herb, offering a warm, earthy flavor.\\n2. **Sumac**: Adds a tangy, lemony taste with its reddish-purple hue.\\n3. **Sesame Seeds**: Provide a nutty flavor and crunchy texture.\\n4. **Salt**: Enhances the overall flavor profile.\\n5. **Oregano**: Occasionally included for an additional herbal note.\\n6. **Marjoram**: Sometimes added for its sweet, citrusy flavor.\\n\\n**Variations**: The proportions and additional ingredients can vary by region, leading to subtle differences in taste and aroma.\\n\\n---\\n\\n**Culinary Uses of Zatar**\\nZatar's versatility makes it a beloved ingredient in various culinary applications:\\n\\n1. **Seasoning for Bread**: Used as a topping for flatbreads like manakish, brushed with olive oil and baked.\\n2. **Marinades and Rubs**: Enhances the flavor of meats, poultry, and grilled vegetables.\\n3. **Condiment**: Mixed with olive oil for dipping or sprinkled over dishes like hummus and labneh.\\n4. **Salads**: Incorporated into dressings or used to season grain-based salads.\\n5. **Baking**: Used in savory pastries for a burst of flavor.\\n6. **Soups and Stews**: Adds depth to the flavor profile.\\n7. **Snacks**: Roasted nuts or popcorn with Zatar offer a unique twist.\\n\\n---\\n\\n**Health Benefits of Zatar**\\nZatar is not only flavorful but also offers several health benefits:\\n\\n1. **Rich in Antioxidants**: Contains herbs like thyme and sumac, which combat oxidative stress.\\n2. **Anti-inflammatory Properties**: Helps reduce inflammation in the body.\\n3. **Supports Digestive Health**: Sesame seeds provide fiber, aiding digestion.\\n4. **Boosts Immune System**: Rich in vitamins C and A, essential for immunity.\\n5. **Improves Heart Health**: Sesame seeds contribute to healthy cholesterol levels.\\n6. **Enhances Cognitive Function**: May improve memory and concentration.\\n7. **Antimicrobial Effects**: Protects against bacterial and fungal infections.\\n8. **Bone Health**: Sesame seeds are rich in calcium and magnesium.\\n9. **Mood Enhancement**: The aroma and flavor can reduce stress.\\n\\n---\\n\\n**Regional Variations of Zatar**\\nZatar's composition varies across different cultures and regions:\\n\\n1. **Levantine Region**: Traditional blend with thyme, sumac, sesame seeds, and salt.\\n2. **Israeli Zatar**: Similar to Levantine, with possible additions like oregano.\\n3. **Egyptian Dukkah**: A related blend with nuts and spices.\\n4. **Turkish Zatar**: May include cumin or fennel seeds.\\n5. **North African Zatar**: Complex with coriander or caraway seeds.\\n6. **Gulf Region**: May include dried lime or saffron.\\n\\n---\\n\\n**Popular Dishes Featuring Zatar**\\nZatar enhances a variety of dishes, both traditional and modern:\\n\\n1. **Zatar Manakish**: Flatbread with Zatar and olive oil.\\n2. **Zatar Roasted Chicken**: Marinated and roasted chicken.\\n3. **Zatar Hummus**: Classic hummus with Zatar topping.\\n4. **Zatar Grilled Vegetables**: Tossed and grilled vegetables.\\n5. **Zatar Labneh**: Creamy labneh with Zatar.\\n6. **Zatar Crusted Fish**: Fish fillets with a Zatar crust.\\n7. **Zatar Pizza**: Modern twist with Zatar topping.\\n8. **Zatar Popcorn**: Savory snack with Zatar.\\n9. **Zatar Roasted Potatoes**: Crispy roasted potatoes.\\n10. **Zatar Salad**: Fresh salad with Zatar dressing.\\n\\n---\\n\\n**Conclusion**\\nZatar's rich flavors and health benefits make it a cherished ingredient in Middle Eastern cuisine. Its adaptability across different regions and dishes highlights its cultural significance and culinary versatility. Whether used as a seasoning, condiment, or flavor enhancer, Zatar continues to captivate palates worldwide, offering a taste of the exotic in everyday meals.\"}}\n"
          ]
        },
        {
          "output_type": "display_data",
          "data": {
            "text/plain": [
              "<IPython.core.display.Markdown object>"
            ],
            "text/markdown": "### Detailed Report on Zatar\n\n**Introduction**\nZatar, also spelled Za'atar, is a traditional Middle Eastern spice blend renowned for its aromatic and flavorful profile. It is a staple in Middle Eastern cuisine, celebrated for its versatility and the unique taste it imparts to various dishes. This report delves into the composition, culinary uses, health benefits, regional variations, and popular dishes featuring Zatar.\n\n---\n\n**Composition of Zatar**\nZatar is a harmonious blend of several key ingredients, each contributing to its distinctive flavor:\n\n1. **Thyme**: The primary herb, offering a warm, earthy flavor.\n2. **Sumac**: Adds a tangy, lemony taste with its reddish-purple hue.\n3. **Sesame Seeds**: Provide a nutty flavor and crunchy texture.\n4. **Salt**: Enhances the overall flavor profile.\n5. **Oregano**: Occasionally included for an additional herbal note.\n6. **Marjoram**: Sometimes added for its sweet, citrusy flavor.\n\n**Variations**: The proportions and additional ingredients can vary by region, leading to subtle differences in taste and aroma.\n\n---\n\n**Culinary Uses of Zatar**\nZatar's versatility makes it a beloved ingredient in various culinary applications:\n\n1. **Seasoning for Bread**: Used as a topping for flatbreads like manakish, brushed with olive oil and baked.\n2. **Marinades and Rubs**: Enhances the flavor of meats, poultry, and grilled vegetables.\n3. **Condiment**: Mixed with olive oil for dipping or sprinkled over dishes like hummus and labneh.\n4. **Salads**: Incorporated into dressings or used to season grain-based salads.\n5. **Baking**: Used in savory pastries for a burst of flavor.\n6. **Soups and Stews**: Adds depth to the flavor profile.\n7. **Snacks**: Roasted nuts or popcorn with Zatar offer a unique twist.\n\n---\n\n**Health Benefits of Zatar**\nZatar is not only flavorful but also offers several health benefits:\n\n1. **Rich in Antioxidants**: Contains herbs like thyme and sumac, which combat oxidative stress.\n2. **Anti-inflammatory Properties**: Helps reduce inflammation in the body.\n3. **Supports Digestive Health**: Sesame seeds provide fiber, aiding digestion.\n4. **Boosts Immune System**: Rich in vitamins C and A, essential for immunity.\n5. **Improves Heart Health**: Sesame seeds contribute to healthy cholesterol levels.\n6. **Enhances Cognitive Function**: May improve memory and concentration.\n7. **Antimicrobial Effects**: Protects against bacterial and fungal infections.\n8. **Bone Health**: Sesame seeds are rich in calcium and magnesium.\n9. **Mood Enhancement**: The aroma and flavor can reduce stress.\n\n---\n\n**Regional Variations of Zatar**\nZatar's composition varies across different cultures and regions:\n\n1. **Levantine Region**: Traditional blend with thyme, sumac, sesame seeds, and salt.\n2. **Israeli Zatar**: Similar to Levantine, with possible additions like oregano.\n3. **Egyptian Dukkah**: A related blend with nuts and spices.\n4. **Turkish Zatar**: May include cumin or fennel seeds.\n5. **North African Zatar**: Complex with coriander or caraway seeds.\n6. **Gulf Region**: May include dried lime or saffron.\n\n---\n\n**Popular Dishes Featuring Zatar**\nZatar enhances a variety of dishes, both traditional and modern:\n\n1. **Zatar Manakish**: Flatbread with Zatar and olive oil.\n2. **Zatar Roasted Chicken**: Marinated and roasted chicken.\n3. **Zatar Hummus**: Classic hummus with Zatar topping.\n4. **Zatar Grilled Vegetables**: Tossed and grilled vegetables.\n5. **Zatar Labneh**: Creamy labneh with Zatar.\n6. **Zatar Crusted Fish**: Fish fillets with a Zatar crust.\n7. **Zatar Pizza**: Modern twist with Zatar topping.\n8. **Zatar Popcorn**: Savory snack with Zatar.\n9. **Zatar Roasted Potatoes**: Crispy roasted potatoes.\n10. **Zatar Salad**: Fresh salad with Zatar dressing.\n\n---\n\n**Conclusion**\nZatar's rich flavors and health benefits make it a cherished ingredient in Middle Eastern cuisine. Its adaptability across different regions and dishes highlights its cultural significance and culinary versatility. Whether used as a seasoning, condiment, or flavor enhancer, Zatar continues to captivate palates worldwide, offering a taste of the exotic in everyday meals."
          },
          "metadata": {}
        }
      ]
    },
    {
      "cell_type": "markdown",
      "source": [
        "#Launch it on Gradio"
      ],
      "metadata": {
        "id": "N9oh4eF5jPJO"
      },
      "id": "N9oh4eF5jPJO"
    },
    {
      "cell_type": "code",
      "source": [
        "!pip install gradio"
      ],
      "metadata": {
        "colab": {
          "base_uri": "https://localhost:8080/"
        },
        "collapsed": true,
        "id": "M9IUYX_Ddz5q",
        "outputId": "acf9c332-7a4a-4e80-b21a-4d1393c5a512"
      },
      "id": "M9IUYX_Ddz5q",
      "execution_count": 19,
      "outputs": [
        {
          "output_type": "stream",
          "name": "stdout",
          "text": [
            "Collecting gradio\n",
            "  Downloading gradio-5.31.0-py3-none-any.whl.metadata (16 kB)\n",
            "Collecting aiofiles<25.0,>=22.0 (from gradio)\n",
            "  Downloading aiofiles-24.1.0-py3-none-any.whl.metadata (10 kB)\n",
            "Requirement already satisfied: anyio<5.0,>=3.0 in /usr/local/lib/python3.11/dist-packages (from gradio) (4.9.0)\n",
            "Collecting fastapi<1.0,>=0.115.2 (from gradio)\n",
            "  Downloading fastapi-0.115.12-py3-none-any.whl.metadata (27 kB)\n",
            "Collecting ffmpy (from gradio)\n",
            "  Downloading ffmpy-0.5.0-py3-none-any.whl.metadata (3.0 kB)\n",
            "Collecting gradio-client==1.10.1 (from gradio)\n",
            "  Downloading gradio_client-1.10.1-py3-none-any.whl.metadata (7.1 kB)\n",
            "Collecting groovy~=0.1 (from gradio)\n",
            "  Downloading groovy-0.1.2-py3-none-any.whl.metadata (6.1 kB)\n",
            "Requirement already satisfied: httpx>=0.24.1 in /usr/local/lib/python3.11/dist-packages (from gradio) (0.28.1)\n",
            "Requirement already satisfied: huggingface-hub>=0.28.1 in /usr/local/lib/python3.11/dist-packages (from gradio) (0.31.2)\n",
            "Requirement already satisfied: jinja2<4.0 in /usr/local/lib/python3.11/dist-packages (from gradio) (3.1.6)\n",
            "Requirement already satisfied: markupsafe<4.0,>=2.0 in /usr/local/lib/python3.11/dist-packages (from gradio) (3.0.2)\n",
            "Requirement already satisfied: numpy<3.0,>=1.0 in /usr/local/lib/python3.11/dist-packages (from gradio) (1.26.4)\n",
            "Requirement already satisfied: orjson~=3.0 in /usr/local/lib/python3.11/dist-packages (from gradio) (3.10.18)\n",
            "Requirement already satisfied: packaging in /usr/local/lib/python3.11/dist-packages (from gradio) (24.2)\n",
            "Requirement already satisfied: pandas<3.0,>=1.0 in /usr/local/lib/python3.11/dist-packages (from gradio) (2.2.2)\n",
            "Requirement already satisfied: pillow<12.0,>=8.0 in /usr/local/lib/python3.11/dist-packages (from gradio) (11.2.1)\n",
            "Requirement already satisfied: pydantic<2.12,>=2.0 in /usr/local/lib/python3.11/dist-packages (from gradio) (2.11.4)\n",
            "Collecting pydub (from gradio)\n",
            "  Downloading pydub-0.25.1-py2.py3-none-any.whl.metadata (1.4 kB)\n",
            "Collecting python-multipart>=0.0.18 (from gradio)\n",
            "  Downloading python_multipart-0.0.20-py3-none-any.whl.metadata (1.8 kB)\n",
            "Requirement already satisfied: pyyaml<7.0,>=5.0 in /usr/local/lib/python3.11/dist-packages (from gradio) (6.0.2)\n",
            "Collecting ruff>=0.9.3 (from gradio)\n",
            "  Downloading ruff-0.11.11-py3-none-manylinux_2_17_x86_64.manylinux2014_x86_64.whl.metadata (25 kB)\n",
            "Collecting safehttpx<0.2.0,>=0.1.6 (from gradio)\n",
            "  Downloading safehttpx-0.1.6-py3-none-any.whl.metadata (4.2 kB)\n",
            "Collecting semantic-version~=2.0 (from gradio)\n",
            "  Downloading semantic_version-2.10.0-py2.py3-none-any.whl.metadata (9.7 kB)\n",
            "Collecting starlette<1.0,>=0.40.0 (from gradio)\n",
            "  Downloading starlette-0.46.2-py3-none-any.whl.metadata (6.2 kB)\n",
            "Collecting tomlkit<0.14.0,>=0.12.0 (from gradio)\n",
            "  Downloading tomlkit-0.13.2-py3-none-any.whl.metadata (2.7 kB)\n",
            "Requirement already satisfied: typer<1.0,>=0.12 in /usr/local/lib/python3.11/dist-packages (from gradio) (0.15.3)\n",
            "Requirement already satisfied: typing-extensions~=4.0 in /usr/local/lib/python3.11/dist-packages (from gradio) (4.13.2)\n",
            "Collecting uvicorn>=0.14.0 (from gradio)\n",
            "  Downloading uvicorn-0.34.2-py3-none-any.whl.metadata (6.5 kB)\n",
            "Requirement already satisfied: fsspec in /usr/local/lib/python3.11/dist-packages (from gradio-client==1.10.1->gradio) (2025.3.2)\n",
            "Requirement already satisfied: websockets<16.0,>=10.0 in /usr/local/lib/python3.11/dist-packages (from gradio-client==1.10.1->gradio) (15.0.1)\n",
            "Requirement already satisfied: idna>=2.8 in /usr/local/lib/python3.11/dist-packages (from anyio<5.0,>=3.0->gradio) (3.10)\n",
            "Requirement already satisfied: sniffio>=1.1 in /usr/local/lib/python3.11/dist-packages (from anyio<5.0,>=3.0->gradio) (1.3.1)\n",
            "Requirement already satisfied: certifi in /usr/local/lib/python3.11/dist-packages (from httpx>=0.24.1->gradio) (2025.4.26)\n",
            "Requirement already satisfied: httpcore==1.* in /usr/local/lib/python3.11/dist-packages (from httpx>=0.24.1->gradio) (1.0.9)\n",
            "Requirement already satisfied: h11>=0.16 in /usr/local/lib/python3.11/dist-packages (from httpcore==1.*->httpx>=0.24.1->gradio) (0.16.0)\n",
            "Requirement already satisfied: filelock in /usr/local/lib/python3.11/dist-packages (from huggingface-hub>=0.28.1->gradio) (3.18.0)\n",
            "Requirement already satisfied: requests in /usr/local/lib/python3.11/dist-packages (from huggingface-hub>=0.28.1->gradio) (2.32.3)\n",
            "Requirement already satisfied: tqdm>=4.42.1 in /usr/local/lib/python3.11/dist-packages (from huggingface-hub>=0.28.1->gradio) (4.67.1)\n",
            "Requirement already satisfied: python-dateutil>=2.8.2 in /usr/local/lib/python3.11/dist-packages (from pandas<3.0,>=1.0->gradio) (2.9.0.post0)\n",
            "Requirement already satisfied: pytz>=2020.1 in /usr/local/lib/python3.11/dist-packages (from pandas<3.0,>=1.0->gradio) (2025.2)\n",
            "Requirement already satisfied: tzdata>=2022.7 in /usr/local/lib/python3.11/dist-packages (from pandas<3.0,>=1.0->gradio) (2025.2)\n",
            "Requirement already satisfied: annotated-types>=0.6.0 in /usr/local/lib/python3.11/dist-packages (from pydantic<2.12,>=2.0->gradio) (0.7.0)\n",
            "Requirement already satisfied: pydantic-core==2.33.2 in /usr/local/lib/python3.11/dist-packages (from pydantic<2.12,>=2.0->gradio) (2.33.2)\n",
            "Requirement already satisfied: typing-inspection>=0.4.0 in /usr/local/lib/python3.11/dist-packages (from pydantic<2.12,>=2.0->gradio) (0.4.0)\n",
            "Requirement already satisfied: click>=8.0.0 in /usr/local/lib/python3.11/dist-packages (from typer<1.0,>=0.12->gradio) (8.2.0)\n",
            "Requirement already satisfied: shellingham>=1.3.0 in /usr/local/lib/python3.11/dist-packages (from typer<1.0,>=0.12->gradio) (1.5.4)\n",
            "Requirement already satisfied: rich>=10.11.0 in /usr/local/lib/python3.11/dist-packages (from typer<1.0,>=0.12->gradio) (13.9.4)\n",
            "Requirement already satisfied: six>=1.5 in /usr/local/lib/python3.11/dist-packages (from python-dateutil>=2.8.2->pandas<3.0,>=1.0->gradio) (1.17.0)\n",
            "Requirement already satisfied: markdown-it-py>=2.2.0 in /usr/local/lib/python3.11/dist-packages (from rich>=10.11.0->typer<1.0,>=0.12->gradio) (3.0.0)\n",
            "Requirement already satisfied: pygments<3.0.0,>=2.13.0 in /usr/local/lib/python3.11/dist-packages (from rich>=10.11.0->typer<1.0,>=0.12->gradio) (2.19.1)\n",
            "Requirement already satisfied: charset-normalizer<4,>=2 in /usr/local/lib/python3.11/dist-packages (from requests->huggingface-hub>=0.28.1->gradio) (3.4.2)\n",
            "Requirement already satisfied: urllib3<3,>=1.21.1 in /usr/local/lib/python3.11/dist-packages (from requests->huggingface-hub>=0.28.1->gradio) (2.4.0)\n",
            "Requirement already satisfied: mdurl~=0.1 in /usr/local/lib/python3.11/dist-packages (from markdown-it-py>=2.2.0->rich>=10.11.0->typer<1.0,>=0.12->gradio) (0.1.2)\n",
            "Downloading gradio-5.31.0-py3-none-any.whl (54.2 MB)\n",
            "\u001b[2K   \u001b[90m━━━━━━━━━━━━━━━━━━━━━━━━━━━━━━━━━━━━━━━━\u001b[0m \u001b[32m54.2/54.2 MB\u001b[0m \u001b[31m19.9 MB/s\u001b[0m eta \u001b[36m0:00:00\u001b[0m\n",
            "\u001b[?25hDownloading gradio_client-1.10.1-py3-none-any.whl (323 kB)\n",
            "\u001b[2K   \u001b[90m━━━━━━━━━━━━━━━━━━━━━━━━━━━━━━━━━━━━━━━━\u001b[0m \u001b[32m323.1/323.1 kB\u001b[0m \u001b[31m25.8 MB/s\u001b[0m eta \u001b[36m0:00:00\u001b[0m\n",
            "\u001b[?25hDownloading aiofiles-24.1.0-py3-none-any.whl (15 kB)\n",
            "Downloading fastapi-0.115.12-py3-none-any.whl (95 kB)\n",
            "\u001b[2K   \u001b[90m━━━━━━━━━━━━━━━━━━━━━━━━━━━━━━━━━━━━━━━━\u001b[0m \u001b[32m95.2/95.2 kB\u001b[0m \u001b[31m9.4 MB/s\u001b[0m eta \u001b[36m0:00:00\u001b[0m\n",
            "\u001b[?25hDownloading groovy-0.1.2-py3-none-any.whl (14 kB)\n",
            "Downloading python_multipart-0.0.20-py3-none-any.whl (24 kB)\n",
            "Downloading ruff-0.11.11-py3-none-manylinux_2_17_x86_64.manylinux2014_x86_64.whl (11.5 MB)\n",
            "\u001b[2K   \u001b[90m━━━━━━━━━━━━━━━━━━━━━━━━━━━━━━━━━━━━━━━━\u001b[0m \u001b[32m11.5/11.5 MB\u001b[0m \u001b[31m117.3 MB/s\u001b[0m eta \u001b[36m0:00:00\u001b[0m\n",
            "\u001b[?25hDownloading safehttpx-0.1.6-py3-none-any.whl (8.7 kB)\n",
            "Downloading semantic_version-2.10.0-py2.py3-none-any.whl (15 kB)\n",
            "Downloading starlette-0.46.2-py3-none-any.whl (72 kB)\n",
            "\u001b[2K   \u001b[90m━━━━━━━━━━━━━━━━━━━━━━━━━━━━━━━━━━━━━━━━\u001b[0m \u001b[32m72.0/72.0 kB\u001b[0m \u001b[31m7.5 MB/s\u001b[0m eta \u001b[36m0:00:00\u001b[0m\n",
            "\u001b[?25hDownloading tomlkit-0.13.2-py3-none-any.whl (37 kB)\n",
            "Downloading uvicorn-0.34.2-py3-none-any.whl (62 kB)\n",
            "\u001b[2K   \u001b[90m━━━━━━━━━━━━━━━━━━━━━━━━━━━━━━━━━━━━━━━━\u001b[0m \u001b[32m62.5/62.5 kB\u001b[0m \u001b[31m6.6 MB/s\u001b[0m eta \u001b[36m0:00:00\u001b[0m\n",
            "\u001b[?25hDownloading ffmpy-0.5.0-py3-none-any.whl (6.0 kB)\n",
            "Downloading pydub-0.25.1-py2.py3-none-any.whl (32 kB)\n",
            "Installing collected packages: pydub, uvicorn, tomlkit, semantic-version, ruff, python-multipart, groovy, ffmpy, aiofiles, starlette, safehttpx, gradio-client, fastapi, gradio\n",
            "Successfully installed aiofiles-24.1.0 fastapi-0.115.12 ffmpy-0.5.0 gradio-5.31.0 gradio-client-1.10.1 groovy-0.1.2 pydub-0.25.1 python-multipart-0.0.20 ruff-0.11.11 safehttpx-0.1.6 semantic-version-2.10.0 starlette-0.46.2 tomlkit-0.13.2 uvicorn-0.34.2\n"
          ]
        }
      ]
    },
    {
      "cell_type": "code",
      "source": [
        "def interact_with_agent(topic: str):\n",
        "    state = {\"topic\": topic}\n",
        "    final_state = agent.invoke(state)\n",
        "    return final_state[\"report\"]"
      ],
      "metadata": {
        "id": "CQzi8z8ad1ma"
      },
      "id": "CQzi8z8ad1ma",
      "execution_count": 26,
      "outputs": []
    },
    {
      "cell_type": "code",
      "source": [
        "import gradio as gr\n",
        "\n",
        "demo = gr.Interface(fn=interact_with_agent,\n",
        "                    inputs=gr.Textbox(lines=2, placeholder=\"Enter a topic...\"),\n",
        "                    outputs=\"text\",\n",
        "                    title=\"Report Writing Agent Demo\",\n",
        "                    description=\"Enter a topic to generate a structured report via AI agents.\")\n",
        "\n",
        "demo.launch(share=True)  # share=True gives a public link\n"
      ],
      "metadata": {
        "colab": {
          "base_uri": "https://localhost:8080/",
          "height": 610
        },
        "id": "8EkmqjSFdwgp",
        "outputId": "fd84abdc-c638-4ec6-a50a-60d1edfa2dbe"
      },
      "id": "8EkmqjSFdwgp",
      "execution_count": 29,
      "outputs": [
        {
          "output_type": "stream",
          "name": "stdout",
          "text": [
            "Colab notebook detected. To show errors in colab notebook, set debug=True in launch()\n",
            "* Running on public URL: https://504e4ce28141d9f3a5.gradio.live\n",
            "\n",
            "This share link expires in 1 week. For free permanent hosting and GPU upgrades, run `gradio deploy` from the terminal in the working directory to deploy to Hugging Face Spaces (https://huggingface.co/spaces)\n"
          ]
        },
        {
          "output_type": "display_data",
          "data": {
            "text/plain": [
              "<IPython.core.display.HTML object>"
            ],
            "text/html": [
              "<div><iframe src=\"https://504e4ce28141d9f3a5.gradio.live\" width=\"100%\" height=\"500\" allow=\"autoplay; camera; microphone; clipboard-read; clipboard-write;\" frameborder=\"0\" allowfullscreen></iframe></div>"
            ]
          },
          "metadata": {}
        },
        {
          "output_type": "execute_result",
          "data": {
            "text/plain": []
          },
          "metadata": {},
          "execution_count": 29
        }
      ]
    }
  ],
  "metadata": {
    "kernelspec": {
      "display_name": "Python 3 (ipykernel)",
      "language": "python",
      "name": "python3"
    },
    "language_info": {
      "codemirror_mode": {
        "name": "ipython",
        "version": 3
      },
      "file_extension": ".py",
      "mimetype": "text/x-python",
      "name": "python",
      "nbconvert_exporter": "python",
      "pygments_lexer": "ipython3",
      "version": "3.12.3"
    },
    "colab": {
      "provenance": [],
      "include_colab_link": true
    }
  },
  "nbformat": 4,
  "nbformat_minor": 5
}